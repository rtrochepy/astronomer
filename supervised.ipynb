{
  "nbformat": 4,
  "nbformat_minor": 0,
  "metadata": {
    "colab": {
      "provenance": [],
      "authorship_tag": "ABX9TyP9O98xKb3yP/G5xjRETjZb",
      "include_colab_link": true
    },
    "kernelspec": {
      "name": "python3",
      "display_name": "Python 3"
    },
    "language_info": {
      "name": "python"
    }
  },
  "cells": [
    {
      "cell_type": "markdown",
      "metadata": {
        "id": "view-in-github",
        "colab_type": "text"
      },
      "source": [
        "<a href=\"https://colab.research.google.com/github/rtrochepy/astronomer/blob/main/supervised.ipynb\" target=\"_parent\"><img src=\"https://colab.research.google.com/assets/colab-badge.svg\" alt=\"Open In Colab\"/></a>"
      ]
    },
    {
      "cell_type": "code",
      "source": [
        "# Importar librerías necesarias\n",
        "import pandas as pd\n",
        "from sklearn.model_selection import train_test_split\n",
        "from sklearn.preprocessing import StandardScaler\n",
        "from sklearn.metrics import accuracy_score\n",
        "from sklearn.linear_model import LogisticRegression\n",
        "from sklearn.tree import DecisionTreeClassifier\n",
        "from sklearn.neighbors import KNeighborsClassifier\n",
        "from sklearn.svm import SVC\n",
        "\n",
        "# Cargar el conjunto de datos\n",
        "df = pd.read_csv(\"processed_dataset_to_train_models.csv\")\n",
        "\n",
        "# Mostrar las columnas del DataFrame\n",
        "print(\"Columnas del DataFrame:\", df.columns)\n",
        "\n",
        "# Definir la columna objetivo\n",
        "target_column = 'label'\n",
        "\n",
        "# Definir las columnas de características (SelectKBest y RFE)\n",
        "selectKBest_columns = ['Payment_6804', 'Base_80863', 'Infraction_QJJF', 'Base_76065',\n",
        "       'Infraction_TLPJ', 'Base_1165', 'Base_39598', 'Base_85131', 'Base_9516',\n",
        "       'Infraction_BSU', 'Infraction_ZYW', 'Infraction_TBP', 'Infraction_PBC',\n",
        "       'Base_0229', 'Base_69608', 'Base_3041', 'Infraction_QKZN',\n",
        "       'Infraction_CZE', 'Base_9103', 'Base_67254_low', 'label']\n",
        "rfe_columns = ['Payment_6804', 'Base_80863', 'Expenditure_JIG', 'Base_02683',\n",
        "       'Infraction_ZWWJ', 'Infraction_QJJF', 'Infraction_EJZ',\n",
        "       'Infraction_GGO', 'Infraction_TLPJ', 'Base_1165', 'Base_39598',\n",
        "       'Base_6187', 'Base_85131', 'Risk_9995', 'Infraction_AYWV', 'Base_9516',\n",
        "       'Expenditure_HMO', 'Infraction_BSU', 'Infraction_ZYW', 'Infraction_TBP',\n",
        "       'Infraction_PBC', 'Base_0229', 'Base_69608', 'Base_3041',\n",
        "       'Infraction_QKZN', 'Infraction_CZE', 'Expenditure_MTRQ',\n",
        "       'Infraction_RKTA', 'Infraction_KEJT', 'label']\n",
        "\n",
        "\n",
        "# Función para entrenar, escalar y evaluar modelos\n",
        "def train_and_evaluate_model(model, X_train, X_test, y_train, y_test, model_name):\n",
        "    # Escalado de los datos\n",
        "    scaler = StandardScaler()\n",
        "    X_train = scaler.fit_transform(X_train)\n",
        "    X_test = scaler.transform(X_test)\n",
        "\n",
        "    # Entrenamiento y evaluación\n",
        "    model.fit(X_train, y_train)\n",
        "    y_pred = model.predict(X_test)\n",
        "    acc = accuracy_score(y_test, y_pred)\n",
        "    return model_name, acc\n",
        "\n",
        "# Función principal para evaluar diferentes modelos\n",
        "def evaluate_models_on_datasets(datasets, target_column, test_size=0.3):\n",
        "    # Modelos de clasificación\n",
        "    models = [\n",
        "        (LogisticRegression(random_state=42, max_iter=1000), \"Regresión Logística\"),\n",
        "        (DecisionTreeClassifier(random_state=42), \"Árbol de Decisión\"),\n",
        "        (KNeighborsClassifier(), \"k-Nearest Neighbors (k-NN)\"),\n",
        "        (SVC(kernel='linear', random_state=42), \"Máquina de Soporte Vectorial (SVM)\")\n",
        "    ]\n",
        "\n",
        "    for df, method_name in datasets:\n",
        "        print(f\"\\n=== Evaluación utilizando {method_name} ===\")\n",
        "\n",
        "        # Separar características (X) y variable objetivo (y)\n",
        "        X = df.drop(columns=[target_column])\n",
        "        y = df[target_column]\n",
        "\n",
        "        # Dividir los datos en entrenamiento y prueba\n",
        "        X_train, X_test, y_train, y_test = train_test_split(\n",
        "            X, y, test_size=test_size, random_state=42\n",
        "        )\n",
        "\n",
        "        # Evaluar cada modelo y almacenar resultados\n",
        "        results = [\n",
        "            train_and_evaluate_model(model, X_train, X_test, y_train, y_test, model_name)\n",
        "            for model, model_name in models\n",
        "        ]\n",
        "\n",
        "        # Ordenar los resultados por accuracy de mayor a menor\n",
        "        results_sorted = sorted(results, key=lambda x: x[1], reverse=True)\n",
        "\n",
        "        # Imprimir resultados ordenados\n",
        "        print(\"Resultados:\")\n",
        "        for name, acc in results_sorted:\n",
        "            print(f\"{name}: Accuracy = {acc:.4f}\")\n",
        "\n",
        "# Crear listas de DataFrames y nombres para iterar\n",
        "target_column = 'label'\n",
        "datasets = [(df_SelectKBest, 'SelectKBest'), (df_rfe, 'RFE')]\n",
        "\n",
        "# Ejecutar la evaluación\n",
        "evaluate_models_on_datasets(datasets, target_column)"
      ],
      "metadata": {
        "colab": {
          "base_uri": "https://localhost:8080/"
        },
        "id": "vdbYMLU1dCvi",
        "outputId": "01601c84-ec11-4fa0-b961-89674b48c80f"
      },
      "execution_count": 8,
      "outputs": [
        {
          "output_type": "stream",
          "name": "stdout",
          "text": [
            "Columnas del DataFrame: Index(['Payment_6804', 'Base_4569', 'Infraction_QKZN', 'Infraction_GGO',\n",
            "       'Base_76065', 'Infraction_BSU', 'Expenditure_MTRQ', 'Expenditure_HMO',\n",
            "       'Base_9516', 'Infraction_TLPJ', 'Base_1165', 'Base_85131', 'Base_3041',\n",
            "       'Infraction_PBC', 'Infraction_RKTA', 'Expenditure_JIG',\n",
            "       'Infraction_ZMKI', 'Base_0229', 'Infraction_ZTNC', 'Base_39598',\n",
            "       'Infraction_CZE', 'Base_67254_low', 'Base_02683', 'Infraction_TBP',\n",
            "       'Infraction_AYWV', 'Infraction_ZWWJ', 'Base_80863', 'Infraction_EJZ',\n",
            "       'Infraction_QJJF', 'Base_6187', 'Base_2810', 'Base_69608', 'Risk_9995',\n",
            "       'Infraction_KEJT', 'Infraction_ZYW', 'Base_9103', 'label'],\n",
            "      dtype='object')\n",
            "\n",
            "=== Evaluación utilizando SelectKBest ===\n",
            "Resultados:\n",
            "k-Nearest Neighbors (k-NN): Accuracy = 0.9082\n",
            "Árbol de Decisión: Accuracy = 0.8766\n",
            "Máquina de Soporte Vectorial (SVM): Accuracy = 0.8343\n",
            "Regresión Logística: Accuracy = 0.8332\n",
            "\n",
            "=== Evaluación utilizando RFE ===\n",
            "Resultados:\n",
            "k-Nearest Neighbors (k-NN): Accuracy = 0.9411\n",
            "Árbol de Decisión: Accuracy = 0.9033\n",
            "Máquina de Soporte Vectorial (SVM): Accuracy = 0.8464\n",
            "Regresión Logística: Accuracy = 0.8447\n"
          ]
        }
      ]
    }
  ]
}