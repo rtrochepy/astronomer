{
  "nbformat": 4,
  "nbformat_minor": 0,
  "metadata": {
    "colab": {
      "provenance": [],
      "authorship_tag": "ABX9TyOXxunwdsV1wKPL08oaEIuH",
      "include_colab_link": true
    },
    "kernelspec": {
      "name": "python3",
      "display_name": "Python 3"
    },
    "language_info": {
      "name": "python"
    }
  },
  "cells": [
    {
      "cell_type": "markdown",
      "metadata": {
        "id": "view-in-github",
        "colab_type": "text"
      },
      "source": [
        "<a href=\"https://colab.research.google.com/github/rtrochepy/astronomer/blob/main/tst01_by_rdtp.ipynb\" target=\"_parent\"><img src=\"https://colab.research.google.com/assets/colab-badge.svg\" alt=\"Open In Colab\"/></a>"
      ]
    },
    {
      "cell_type": "code",
      "execution_count": null,
      "metadata": {
        "id": "GNWEpcz4Jlj9"
      },
      "outputs": [],
      "source": []
    },
    {
      "cell_type": "code",
      "source": [
        "%pip install langchain transformers huggingface_hub"
      ],
      "metadata": {
        "colab": {
          "base_uri": "https://localhost:8080/"
        },
        "id": "hbbtbHlmKp6j",
        "outputId": "a8401e2c-d37c-4e4b-db5c-83ace91e6c53"
      },
      "execution_count": 1,
      "outputs": [
        {
          "output_type": "stream",
          "name": "stdout",
          "text": [
            "Requirement already satisfied: langchain in /usr/local/lib/python3.10/dist-packages (0.3.7)\n",
            "Requirement already satisfied: transformers in /usr/local/lib/python3.10/dist-packages (4.46.2)\n",
            "Requirement already satisfied: huggingface_hub in /usr/local/lib/python3.10/dist-packages (0.26.2)\n",
            "Requirement already satisfied: PyYAML>=5.3 in /usr/local/lib/python3.10/dist-packages (from langchain) (6.0.2)\n",
            "Requirement already satisfied: SQLAlchemy<3,>=1.4 in /usr/local/lib/python3.10/dist-packages (from langchain) (2.0.36)\n",
            "Requirement already satisfied: aiohttp<4.0.0,>=3.8.3 in /usr/local/lib/python3.10/dist-packages (from langchain) (3.11.2)\n",
            "Requirement already satisfied: async-timeout<5.0.0,>=4.0.0 in /usr/local/lib/python3.10/dist-packages (from langchain) (4.0.3)\n",
            "Requirement already satisfied: langchain-core<0.4.0,>=0.3.15 in /usr/local/lib/python3.10/dist-packages (from langchain) (0.3.19)\n",
            "Requirement already satisfied: langchain-text-splitters<0.4.0,>=0.3.0 in /usr/local/lib/python3.10/dist-packages (from langchain) (0.3.2)\n",
            "Requirement already satisfied: langsmith<0.2.0,>=0.1.17 in /usr/local/lib/python3.10/dist-packages (from langchain) (0.1.143)\n",
            "Requirement already satisfied: numpy<2,>=1 in /usr/local/lib/python3.10/dist-packages (from langchain) (1.26.4)\n",
            "Requirement already satisfied: pydantic<3.0.0,>=2.7.4 in /usr/local/lib/python3.10/dist-packages (from langchain) (2.9.2)\n",
            "Requirement already satisfied: requests<3,>=2 in /usr/local/lib/python3.10/dist-packages (from langchain) (2.32.3)\n",
            "Requirement already satisfied: tenacity!=8.4.0,<10,>=8.1.0 in /usr/local/lib/python3.10/dist-packages (from langchain) (9.0.0)\n",
            "Requirement already satisfied: filelock in /usr/local/lib/python3.10/dist-packages (from transformers) (3.16.1)\n",
            "Requirement already satisfied: packaging>=20.0 in /usr/local/lib/python3.10/dist-packages (from transformers) (24.2)\n",
            "Requirement already satisfied: regex!=2019.12.17 in /usr/local/lib/python3.10/dist-packages (from transformers) (2024.9.11)\n",
            "Requirement already satisfied: safetensors>=0.4.1 in /usr/local/lib/python3.10/dist-packages (from transformers) (0.4.5)\n",
            "Requirement already satisfied: tokenizers<0.21,>=0.20 in /usr/local/lib/python3.10/dist-packages (from transformers) (0.20.3)\n",
            "Requirement already satisfied: tqdm>=4.27 in /usr/local/lib/python3.10/dist-packages (from transformers) (4.66.6)\n",
            "Requirement already satisfied: fsspec>=2023.5.0 in /usr/local/lib/python3.10/dist-packages (from huggingface_hub) (2024.10.0)\n",
            "Requirement already satisfied: typing-extensions>=3.7.4.3 in /usr/local/lib/python3.10/dist-packages (from huggingface_hub) (4.12.2)\n",
            "Requirement already satisfied: aiohappyeyeballs>=2.3.0 in /usr/local/lib/python3.10/dist-packages (from aiohttp<4.0.0,>=3.8.3->langchain) (2.4.3)\n",
            "Requirement already satisfied: aiosignal>=1.1.2 in /usr/local/lib/python3.10/dist-packages (from aiohttp<4.0.0,>=3.8.3->langchain) (1.3.1)\n",
            "Requirement already satisfied: attrs>=17.3.0 in /usr/local/lib/python3.10/dist-packages (from aiohttp<4.0.0,>=3.8.3->langchain) (24.2.0)\n",
            "Requirement already satisfied: frozenlist>=1.1.1 in /usr/local/lib/python3.10/dist-packages (from aiohttp<4.0.0,>=3.8.3->langchain) (1.5.0)\n",
            "Requirement already satisfied: multidict<7.0,>=4.5 in /usr/local/lib/python3.10/dist-packages (from aiohttp<4.0.0,>=3.8.3->langchain) (6.1.0)\n",
            "Requirement already satisfied: propcache>=0.2.0 in /usr/local/lib/python3.10/dist-packages (from aiohttp<4.0.0,>=3.8.3->langchain) (0.2.0)\n",
            "Requirement already satisfied: yarl<2.0,>=1.17.0 in /usr/local/lib/python3.10/dist-packages (from aiohttp<4.0.0,>=3.8.3->langchain) (1.17.2)\n",
            "Requirement already satisfied: jsonpatch<2.0,>=1.33 in /usr/local/lib/python3.10/dist-packages (from langchain-core<0.4.0,>=0.3.15->langchain) (1.33)\n",
            "Requirement already satisfied: httpx<1,>=0.23.0 in /usr/local/lib/python3.10/dist-packages (from langsmith<0.2.0,>=0.1.17->langchain) (0.27.2)\n",
            "Requirement already satisfied: orjson<4.0.0,>=3.9.14 in /usr/local/lib/python3.10/dist-packages (from langsmith<0.2.0,>=0.1.17->langchain) (3.10.11)\n",
            "Requirement already satisfied: requests-toolbelt<2.0.0,>=1.0.0 in /usr/local/lib/python3.10/dist-packages (from langsmith<0.2.0,>=0.1.17->langchain) (1.0.0)\n",
            "Requirement already satisfied: annotated-types>=0.6.0 in /usr/local/lib/python3.10/dist-packages (from pydantic<3.0.0,>=2.7.4->langchain) (0.7.0)\n",
            "Requirement already satisfied: pydantic-core==2.23.4 in /usr/local/lib/python3.10/dist-packages (from pydantic<3.0.0,>=2.7.4->langchain) (2.23.4)\n",
            "Requirement already satisfied: charset-normalizer<4,>=2 in /usr/local/lib/python3.10/dist-packages (from requests<3,>=2->langchain) (3.4.0)\n",
            "Requirement already satisfied: idna<4,>=2.5 in /usr/local/lib/python3.10/dist-packages (from requests<3,>=2->langchain) (3.10)\n",
            "Requirement already satisfied: urllib3<3,>=1.21.1 in /usr/local/lib/python3.10/dist-packages (from requests<3,>=2->langchain) (2.2.3)\n",
            "Requirement already satisfied: certifi>=2017.4.17 in /usr/local/lib/python3.10/dist-packages (from requests<3,>=2->langchain) (2024.8.30)\n",
            "Requirement already satisfied: greenlet!=0.4.17 in /usr/local/lib/python3.10/dist-packages (from SQLAlchemy<3,>=1.4->langchain) (3.1.1)\n",
            "Requirement already satisfied: anyio in /usr/local/lib/python3.10/dist-packages (from httpx<1,>=0.23.0->langsmith<0.2.0,>=0.1.17->langchain) (3.7.1)\n",
            "Requirement already satisfied: httpcore==1.* in /usr/local/lib/python3.10/dist-packages (from httpx<1,>=0.23.0->langsmith<0.2.0,>=0.1.17->langchain) (1.0.7)\n",
            "Requirement already satisfied: sniffio in /usr/local/lib/python3.10/dist-packages (from httpx<1,>=0.23.0->langsmith<0.2.0,>=0.1.17->langchain) (1.3.1)\n",
            "Requirement already satisfied: h11<0.15,>=0.13 in /usr/local/lib/python3.10/dist-packages (from httpcore==1.*->httpx<1,>=0.23.0->langsmith<0.2.0,>=0.1.17->langchain) (0.14.0)\n",
            "Requirement already satisfied: jsonpointer>=1.9 in /usr/local/lib/python3.10/dist-packages (from jsonpatch<2.0,>=1.33->langchain-core<0.4.0,>=0.3.15->langchain) (3.0.0)\n",
            "Requirement already satisfied: exceptiongroup in /usr/local/lib/python3.10/dist-packages (from anyio->httpx<1,>=0.23.0->langsmith<0.2.0,>=0.1.17->langchain) (1.2.2)\n"
          ]
        }
      ]
    },
    {
      "cell_type": "code",
      "source": [
        "%pip install --upgrade langchain"
      ],
      "metadata": {
        "colab": {
          "base_uri": "https://localhost:8080/"
        },
        "id": "xW77FfoQKsqT",
        "outputId": "8183b8a8-dccc-473b-b288-d7077dcaaeea"
      },
      "execution_count": 2,
      "outputs": [
        {
          "output_type": "stream",
          "name": "stdout",
          "text": [
            "Requirement already satisfied: langchain in /usr/local/lib/python3.10/dist-packages (0.3.7)\n",
            "Requirement already satisfied: PyYAML>=5.3 in /usr/local/lib/python3.10/dist-packages (from langchain) (6.0.2)\n",
            "Requirement already satisfied: SQLAlchemy<3,>=1.4 in /usr/local/lib/python3.10/dist-packages (from langchain) (2.0.36)\n",
            "Requirement already satisfied: aiohttp<4.0.0,>=3.8.3 in /usr/local/lib/python3.10/dist-packages (from langchain) (3.11.2)\n",
            "Requirement already satisfied: async-timeout<5.0.0,>=4.0.0 in /usr/local/lib/python3.10/dist-packages (from langchain) (4.0.3)\n",
            "Requirement already satisfied: langchain-core<0.4.0,>=0.3.15 in /usr/local/lib/python3.10/dist-packages (from langchain) (0.3.19)\n",
            "Requirement already satisfied: langchain-text-splitters<0.4.0,>=0.3.0 in /usr/local/lib/python3.10/dist-packages (from langchain) (0.3.2)\n",
            "Requirement already satisfied: langsmith<0.2.0,>=0.1.17 in /usr/local/lib/python3.10/dist-packages (from langchain) (0.1.143)\n",
            "Requirement already satisfied: numpy<2,>=1 in /usr/local/lib/python3.10/dist-packages (from langchain) (1.26.4)\n",
            "Requirement already satisfied: pydantic<3.0.0,>=2.7.4 in /usr/local/lib/python3.10/dist-packages (from langchain) (2.9.2)\n",
            "Requirement already satisfied: requests<3,>=2 in /usr/local/lib/python3.10/dist-packages (from langchain) (2.32.3)\n",
            "Requirement already satisfied: tenacity!=8.4.0,<10,>=8.1.0 in /usr/local/lib/python3.10/dist-packages (from langchain) (9.0.0)\n",
            "Requirement already satisfied: aiohappyeyeballs>=2.3.0 in /usr/local/lib/python3.10/dist-packages (from aiohttp<4.0.0,>=3.8.3->langchain) (2.4.3)\n",
            "Requirement already satisfied: aiosignal>=1.1.2 in /usr/local/lib/python3.10/dist-packages (from aiohttp<4.0.0,>=3.8.3->langchain) (1.3.1)\n",
            "Requirement already satisfied: attrs>=17.3.0 in /usr/local/lib/python3.10/dist-packages (from aiohttp<4.0.0,>=3.8.3->langchain) (24.2.0)\n",
            "Requirement already satisfied: frozenlist>=1.1.1 in /usr/local/lib/python3.10/dist-packages (from aiohttp<4.0.0,>=3.8.3->langchain) (1.5.0)\n",
            "Requirement already satisfied: multidict<7.0,>=4.5 in /usr/local/lib/python3.10/dist-packages (from aiohttp<4.0.0,>=3.8.3->langchain) (6.1.0)\n",
            "Requirement already satisfied: propcache>=0.2.0 in /usr/local/lib/python3.10/dist-packages (from aiohttp<4.0.0,>=3.8.3->langchain) (0.2.0)\n",
            "Requirement already satisfied: yarl<2.0,>=1.17.0 in /usr/local/lib/python3.10/dist-packages (from aiohttp<4.0.0,>=3.8.3->langchain) (1.17.2)\n",
            "Requirement already satisfied: jsonpatch<2.0,>=1.33 in /usr/local/lib/python3.10/dist-packages (from langchain-core<0.4.0,>=0.3.15->langchain) (1.33)\n",
            "Requirement already satisfied: packaging<25,>=23.2 in /usr/local/lib/python3.10/dist-packages (from langchain-core<0.4.0,>=0.3.15->langchain) (24.2)\n",
            "Requirement already satisfied: typing-extensions>=4.7 in /usr/local/lib/python3.10/dist-packages (from langchain-core<0.4.0,>=0.3.15->langchain) (4.12.2)\n",
            "Requirement already satisfied: httpx<1,>=0.23.0 in /usr/local/lib/python3.10/dist-packages (from langsmith<0.2.0,>=0.1.17->langchain) (0.27.2)\n",
            "Requirement already satisfied: orjson<4.0.0,>=3.9.14 in /usr/local/lib/python3.10/dist-packages (from langsmith<0.2.0,>=0.1.17->langchain) (3.10.11)\n",
            "Requirement already satisfied: requests-toolbelt<2.0.0,>=1.0.0 in /usr/local/lib/python3.10/dist-packages (from langsmith<0.2.0,>=0.1.17->langchain) (1.0.0)\n",
            "Requirement already satisfied: annotated-types>=0.6.0 in /usr/local/lib/python3.10/dist-packages (from pydantic<3.0.0,>=2.7.4->langchain) (0.7.0)\n",
            "Requirement already satisfied: pydantic-core==2.23.4 in /usr/local/lib/python3.10/dist-packages (from pydantic<3.0.0,>=2.7.4->langchain) (2.23.4)\n",
            "Requirement already satisfied: charset-normalizer<4,>=2 in /usr/local/lib/python3.10/dist-packages (from requests<3,>=2->langchain) (3.4.0)\n",
            "Requirement already satisfied: idna<4,>=2.5 in /usr/local/lib/python3.10/dist-packages (from requests<3,>=2->langchain) (3.10)\n",
            "Requirement already satisfied: urllib3<3,>=1.21.1 in /usr/local/lib/python3.10/dist-packages (from requests<3,>=2->langchain) (2.2.3)\n",
            "Requirement already satisfied: certifi>=2017.4.17 in /usr/local/lib/python3.10/dist-packages (from requests<3,>=2->langchain) (2024.8.30)\n",
            "Requirement already satisfied: greenlet!=0.4.17 in /usr/local/lib/python3.10/dist-packages (from SQLAlchemy<3,>=1.4->langchain) (3.1.1)\n",
            "Requirement already satisfied: anyio in /usr/local/lib/python3.10/dist-packages (from httpx<1,>=0.23.0->langsmith<0.2.0,>=0.1.17->langchain) (3.7.1)\n",
            "Requirement already satisfied: httpcore==1.* in /usr/local/lib/python3.10/dist-packages (from httpx<1,>=0.23.0->langsmith<0.2.0,>=0.1.17->langchain) (1.0.7)\n",
            "Requirement already satisfied: sniffio in /usr/local/lib/python3.10/dist-packages (from httpx<1,>=0.23.0->langsmith<0.2.0,>=0.1.17->langchain) (1.3.1)\n",
            "Requirement already satisfied: h11<0.15,>=0.13 in /usr/local/lib/python3.10/dist-packages (from httpcore==1.*->httpx<1,>=0.23.0->langsmith<0.2.0,>=0.1.17->langchain) (0.14.0)\n",
            "Requirement already satisfied: jsonpointer>=1.9 in /usr/local/lib/python3.10/dist-packages (from jsonpatch<2.0,>=1.33->langchain-core<0.4.0,>=0.3.15->langchain) (3.0.0)\n",
            "Requirement already satisfied: exceptiongroup in /usr/local/lib/python3.10/dist-packages (from anyio->httpx<1,>=0.23.0->langsmith<0.2.0,>=0.1.17->langchain) (1.2.2)\n"
          ]
        }
      ]
    },
    {
      "cell_type": "code",
      "source": [
        "%pip install langchain-community"
      ],
      "metadata": {
        "colab": {
          "base_uri": "https://localhost:8080/"
        },
        "id": "pm53NwEtKwQ0",
        "outputId": "d2be97c3-9f56-4988-84a0-0572cfed11bd"
      },
      "execution_count": 3,
      "outputs": [
        {
          "output_type": "stream",
          "name": "stdout",
          "text": [
            "Collecting langchain-community\n",
            "  Downloading langchain_community-0.3.7-py3-none-any.whl.metadata (2.9 kB)\n",
            "Requirement already satisfied: PyYAML>=5.3 in /usr/local/lib/python3.10/dist-packages (from langchain-community) (6.0.2)\n",
            "Collecting SQLAlchemy<2.0.36,>=1.4 (from langchain-community)\n",
            "  Downloading SQLAlchemy-2.0.35-cp310-cp310-manylinux_2_17_x86_64.manylinux2014_x86_64.whl.metadata (9.6 kB)\n",
            "Requirement already satisfied: aiohttp<4.0.0,>=3.8.3 in /usr/local/lib/python3.10/dist-packages (from langchain-community) (3.11.2)\n",
            "Collecting dataclasses-json<0.7,>=0.5.7 (from langchain-community)\n",
            "  Downloading dataclasses_json-0.6.7-py3-none-any.whl.metadata (25 kB)\n",
            "Collecting httpx-sse<0.5.0,>=0.4.0 (from langchain-community)\n",
            "  Downloading httpx_sse-0.4.0-py3-none-any.whl.metadata (9.0 kB)\n",
            "Requirement already satisfied: langchain<0.4.0,>=0.3.7 in /usr/local/lib/python3.10/dist-packages (from langchain-community) (0.3.7)\n",
            "Requirement already satisfied: langchain-core<0.4.0,>=0.3.17 in /usr/local/lib/python3.10/dist-packages (from langchain-community) (0.3.19)\n",
            "Requirement already satisfied: langsmith<0.2.0,>=0.1.125 in /usr/local/lib/python3.10/dist-packages (from langchain-community) (0.1.143)\n",
            "Requirement already satisfied: numpy<2,>=1 in /usr/local/lib/python3.10/dist-packages (from langchain-community) (1.26.4)\n",
            "Collecting pydantic-settings<3.0.0,>=2.4.0 (from langchain-community)\n",
            "  Downloading pydantic_settings-2.6.1-py3-none-any.whl.metadata (3.5 kB)\n",
            "Requirement already satisfied: requests<3,>=2 in /usr/local/lib/python3.10/dist-packages (from langchain-community) (2.32.3)\n",
            "Requirement already satisfied: tenacity!=8.4.0,<10,>=8.1.0 in /usr/local/lib/python3.10/dist-packages (from langchain-community) (9.0.0)\n",
            "Requirement already satisfied: aiohappyeyeballs>=2.3.0 in /usr/local/lib/python3.10/dist-packages (from aiohttp<4.0.0,>=3.8.3->langchain-community) (2.4.3)\n",
            "Requirement already satisfied: aiosignal>=1.1.2 in /usr/local/lib/python3.10/dist-packages (from aiohttp<4.0.0,>=3.8.3->langchain-community) (1.3.1)\n",
            "Requirement already satisfied: attrs>=17.3.0 in /usr/local/lib/python3.10/dist-packages (from aiohttp<4.0.0,>=3.8.3->langchain-community) (24.2.0)\n",
            "Requirement already satisfied: frozenlist>=1.1.1 in /usr/local/lib/python3.10/dist-packages (from aiohttp<4.0.0,>=3.8.3->langchain-community) (1.5.0)\n",
            "Requirement already satisfied: multidict<7.0,>=4.5 in /usr/local/lib/python3.10/dist-packages (from aiohttp<4.0.0,>=3.8.3->langchain-community) (6.1.0)\n",
            "Requirement already satisfied: propcache>=0.2.0 in /usr/local/lib/python3.10/dist-packages (from aiohttp<4.0.0,>=3.8.3->langchain-community) (0.2.0)\n",
            "Requirement already satisfied: yarl<2.0,>=1.17.0 in /usr/local/lib/python3.10/dist-packages (from aiohttp<4.0.0,>=3.8.3->langchain-community) (1.17.2)\n",
            "Requirement already satisfied: async-timeout<6.0,>=4.0 in /usr/local/lib/python3.10/dist-packages (from aiohttp<4.0.0,>=3.8.3->langchain-community) (4.0.3)\n",
            "Collecting marshmallow<4.0.0,>=3.18.0 (from dataclasses-json<0.7,>=0.5.7->langchain-community)\n",
            "  Downloading marshmallow-3.23.1-py3-none-any.whl.metadata (7.5 kB)\n",
            "Collecting typing-inspect<1,>=0.4.0 (from dataclasses-json<0.7,>=0.5.7->langchain-community)\n",
            "  Downloading typing_inspect-0.9.0-py3-none-any.whl.metadata (1.5 kB)\n",
            "Requirement already satisfied: langchain-text-splitters<0.4.0,>=0.3.0 in /usr/local/lib/python3.10/dist-packages (from langchain<0.4.0,>=0.3.7->langchain-community) (0.3.2)\n",
            "Requirement already satisfied: pydantic<3.0.0,>=2.7.4 in /usr/local/lib/python3.10/dist-packages (from langchain<0.4.0,>=0.3.7->langchain-community) (2.9.2)\n",
            "Requirement already satisfied: jsonpatch<2.0,>=1.33 in /usr/local/lib/python3.10/dist-packages (from langchain-core<0.4.0,>=0.3.17->langchain-community) (1.33)\n",
            "Requirement already satisfied: packaging<25,>=23.2 in /usr/local/lib/python3.10/dist-packages (from langchain-core<0.4.0,>=0.3.17->langchain-community) (24.2)\n",
            "Requirement already satisfied: typing-extensions>=4.7 in /usr/local/lib/python3.10/dist-packages (from langchain-core<0.4.0,>=0.3.17->langchain-community) (4.12.2)\n",
            "Requirement already satisfied: httpx<1,>=0.23.0 in /usr/local/lib/python3.10/dist-packages (from langsmith<0.2.0,>=0.1.125->langchain-community) (0.27.2)\n",
            "Requirement already satisfied: orjson<4.0.0,>=3.9.14 in /usr/local/lib/python3.10/dist-packages (from langsmith<0.2.0,>=0.1.125->langchain-community) (3.10.11)\n",
            "Requirement already satisfied: requests-toolbelt<2.0.0,>=1.0.0 in /usr/local/lib/python3.10/dist-packages (from langsmith<0.2.0,>=0.1.125->langchain-community) (1.0.0)\n",
            "Collecting python-dotenv>=0.21.0 (from pydantic-settings<3.0.0,>=2.4.0->langchain-community)\n",
            "  Downloading python_dotenv-1.0.1-py3-none-any.whl.metadata (23 kB)\n",
            "Requirement already satisfied: charset-normalizer<4,>=2 in /usr/local/lib/python3.10/dist-packages (from requests<3,>=2->langchain-community) (3.4.0)\n",
            "Requirement already satisfied: idna<4,>=2.5 in /usr/local/lib/python3.10/dist-packages (from requests<3,>=2->langchain-community) (3.10)\n",
            "Requirement already satisfied: urllib3<3,>=1.21.1 in /usr/local/lib/python3.10/dist-packages (from requests<3,>=2->langchain-community) (2.2.3)\n",
            "Requirement already satisfied: certifi>=2017.4.17 in /usr/local/lib/python3.10/dist-packages (from requests<3,>=2->langchain-community) (2024.8.30)\n",
            "Requirement already satisfied: greenlet!=0.4.17 in /usr/local/lib/python3.10/dist-packages (from SQLAlchemy<2.0.36,>=1.4->langchain-community) (3.1.1)\n",
            "Requirement already satisfied: anyio in /usr/local/lib/python3.10/dist-packages (from httpx<1,>=0.23.0->langsmith<0.2.0,>=0.1.125->langchain-community) (3.7.1)\n",
            "Requirement already satisfied: httpcore==1.* in /usr/local/lib/python3.10/dist-packages (from httpx<1,>=0.23.0->langsmith<0.2.0,>=0.1.125->langchain-community) (1.0.7)\n",
            "Requirement already satisfied: sniffio in /usr/local/lib/python3.10/dist-packages (from httpx<1,>=0.23.0->langsmith<0.2.0,>=0.1.125->langchain-community) (1.3.1)\n",
            "Requirement already satisfied: h11<0.15,>=0.13 in /usr/local/lib/python3.10/dist-packages (from httpcore==1.*->httpx<1,>=0.23.0->langsmith<0.2.0,>=0.1.125->langchain-community) (0.14.0)\n",
            "Requirement already satisfied: jsonpointer>=1.9 in /usr/local/lib/python3.10/dist-packages (from jsonpatch<2.0,>=1.33->langchain-core<0.4.0,>=0.3.17->langchain-community) (3.0.0)\n",
            "Requirement already satisfied: annotated-types>=0.6.0 in /usr/local/lib/python3.10/dist-packages (from pydantic<3.0.0,>=2.7.4->langchain<0.4.0,>=0.3.7->langchain-community) (0.7.0)\n",
            "Requirement already satisfied: pydantic-core==2.23.4 in /usr/local/lib/python3.10/dist-packages (from pydantic<3.0.0,>=2.7.4->langchain<0.4.0,>=0.3.7->langchain-community) (2.23.4)\n",
            "Collecting mypy-extensions>=0.3.0 (from typing-inspect<1,>=0.4.0->dataclasses-json<0.7,>=0.5.7->langchain-community)\n",
            "  Downloading mypy_extensions-1.0.0-py3-none-any.whl.metadata (1.1 kB)\n",
            "Requirement already satisfied: exceptiongroup in /usr/local/lib/python3.10/dist-packages (from anyio->httpx<1,>=0.23.0->langsmith<0.2.0,>=0.1.125->langchain-community) (1.2.2)\n",
            "Downloading langchain_community-0.3.7-py3-none-any.whl (2.4 MB)\n",
            "\u001b[2K   \u001b[90m━━━━━━━━━━━━━━━━━━━━━━━━━━━━━━━━━━━━━━━━\u001b[0m \u001b[32m2.4/2.4 MB\u001b[0m \u001b[31m4.3 MB/s\u001b[0m eta \u001b[36m0:00:00\u001b[0m\n",
            "\u001b[?25hDownloading dataclasses_json-0.6.7-py3-none-any.whl (28 kB)\n",
            "Downloading httpx_sse-0.4.0-py3-none-any.whl (7.8 kB)\n",
            "Downloading pydantic_settings-2.6.1-py3-none-any.whl (28 kB)\n",
            "Downloading SQLAlchemy-2.0.35-cp310-cp310-manylinux_2_17_x86_64.manylinux2014_x86_64.whl (3.1 MB)\n",
            "\u001b[2K   \u001b[90m━━━━━━━━━━━━━━━━━━━━━━━━━━━━━━━━━━━━━━━━\u001b[0m \u001b[32m3.1/3.1 MB\u001b[0m \u001b[31m6.9 MB/s\u001b[0m eta \u001b[36m0:00:00\u001b[0m\n",
            "\u001b[?25hDownloading marshmallow-3.23.1-py3-none-any.whl (49 kB)\n",
            "\u001b[2K   \u001b[90m━━━━━━━━━━━━━━━━━━━━━━━━━━━━━━━━━━━━━━━━\u001b[0m \u001b[32m49.5/49.5 kB\u001b[0m \u001b[31m3.4 MB/s\u001b[0m eta \u001b[36m0:00:00\u001b[0m\n",
            "\u001b[?25hDownloading python_dotenv-1.0.1-py3-none-any.whl (19 kB)\n",
            "Downloading typing_inspect-0.9.0-py3-none-any.whl (8.8 kB)\n",
            "Downloading mypy_extensions-1.0.0-py3-none-any.whl (4.7 kB)\n",
            "Installing collected packages: SQLAlchemy, python-dotenv, mypy-extensions, marshmallow, httpx-sse, typing-inspect, pydantic-settings, dataclasses-json, langchain-community\n",
            "  Attempting uninstall: SQLAlchemy\n",
            "    Found existing installation: SQLAlchemy 2.0.36\n",
            "    Uninstalling SQLAlchemy-2.0.36:\n",
            "      Successfully uninstalled SQLAlchemy-2.0.36\n",
            "Successfully installed SQLAlchemy-2.0.35 dataclasses-json-0.6.7 httpx-sse-0.4.0 langchain-community-0.3.7 marshmallow-3.23.1 mypy-extensions-1.0.0 pydantic-settings-2.6.1 python-dotenv-1.0.1 typing-inspect-0.9.0\n"
          ]
        }
      ]
    },
    {
      "cell_type": "code",
      "source": [
        "%pip install langchain-huggingface"
      ],
      "metadata": {
        "colab": {
          "base_uri": "https://localhost:8080/"
        },
        "id": "UQwiXXVEKzyl",
        "outputId": "149b21aa-1eff-4f41-bfd5-150bdf33a7b8"
      },
      "execution_count": 4,
      "outputs": [
        {
          "output_type": "stream",
          "name": "stdout",
          "text": [
            "Collecting langchain-huggingface\n",
            "  Downloading langchain_huggingface-0.1.2-py3-none-any.whl.metadata (1.3 kB)\n",
            "Requirement already satisfied: huggingface-hub>=0.23.0 in /usr/local/lib/python3.10/dist-packages (from langchain-huggingface) (0.26.2)\n",
            "Requirement already satisfied: langchain-core<0.4.0,>=0.3.15 in /usr/local/lib/python3.10/dist-packages (from langchain-huggingface) (0.3.19)\n",
            "Requirement already satisfied: sentence-transformers>=2.6.0 in /usr/local/lib/python3.10/dist-packages (from langchain-huggingface) (3.2.1)\n",
            "Requirement already satisfied: tokenizers>=0.19.1 in /usr/local/lib/python3.10/dist-packages (from langchain-huggingface) (0.20.3)\n",
            "Requirement already satisfied: transformers>=4.39.0 in /usr/local/lib/python3.10/dist-packages (from langchain-huggingface) (4.46.2)\n",
            "Requirement already satisfied: filelock in /usr/local/lib/python3.10/dist-packages (from huggingface-hub>=0.23.0->langchain-huggingface) (3.16.1)\n",
            "Requirement already satisfied: fsspec>=2023.5.0 in /usr/local/lib/python3.10/dist-packages (from huggingface-hub>=0.23.0->langchain-huggingface) (2024.10.0)\n",
            "Requirement already satisfied: packaging>=20.9 in /usr/local/lib/python3.10/dist-packages (from huggingface-hub>=0.23.0->langchain-huggingface) (24.2)\n",
            "Requirement already satisfied: pyyaml>=5.1 in /usr/local/lib/python3.10/dist-packages (from huggingface-hub>=0.23.0->langchain-huggingface) (6.0.2)\n",
            "Requirement already satisfied: requests in /usr/local/lib/python3.10/dist-packages (from huggingface-hub>=0.23.0->langchain-huggingface) (2.32.3)\n",
            "Requirement already satisfied: tqdm>=4.42.1 in /usr/local/lib/python3.10/dist-packages (from huggingface-hub>=0.23.0->langchain-huggingface) (4.66.6)\n",
            "Requirement already satisfied: typing-extensions>=3.7.4.3 in /usr/local/lib/python3.10/dist-packages (from huggingface-hub>=0.23.0->langchain-huggingface) (4.12.2)\n",
            "Requirement already satisfied: jsonpatch<2.0,>=1.33 in /usr/local/lib/python3.10/dist-packages (from langchain-core<0.4.0,>=0.3.15->langchain-huggingface) (1.33)\n",
            "Requirement already satisfied: langsmith<0.2.0,>=0.1.125 in /usr/local/lib/python3.10/dist-packages (from langchain-core<0.4.0,>=0.3.15->langchain-huggingface) (0.1.143)\n",
            "Requirement already satisfied: pydantic<3.0.0,>=2.5.2 in /usr/local/lib/python3.10/dist-packages (from langchain-core<0.4.0,>=0.3.15->langchain-huggingface) (2.9.2)\n",
            "Requirement already satisfied: tenacity!=8.4.0,<10.0.0,>=8.1.0 in /usr/local/lib/python3.10/dist-packages (from langchain-core<0.4.0,>=0.3.15->langchain-huggingface) (9.0.0)\n",
            "Requirement already satisfied: torch>=1.11.0 in /usr/local/lib/python3.10/dist-packages (from sentence-transformers>=2.6.0->langchain-huggingface) (2.5.1+cu121)\n",
            "Requirement already satisfied: scikit-learn in /usr/local/lib/python3.10/dist-packages (from sentence-transformers>=2.6.0->langchain-huggingface) (1.5.2)\n",
            "Requirement already satisfied: scipy in /usr/local/lib/python3.10/dist-packages (from sentence-transformers>=2.6.0->langchain-huggingface) (1.13.1)\n",
            "Requirement already satisfied: Pillow in /usr/local/lib/python3.10/dist-packages (from sentence-transformers>=2.6.0->langchain-huggingface) (11.0.0)\n",
            "Requirement already satisfied: numpy>=1.17 in /usr/local/lib/python3.10/dist-packages (from transformers>=4.39.0->langchain-huggingface) (1.26.4)\n",
            "Requirement already satisfied: regex!=2019.12.17 in /usr/local/lib/python3.10/dist-packages (from transformers>=4.39.0->langchain-huggingface) (2024.9.11)\n",
            "Requirement already satisfied: safetensors>=0.4.1 in /usr/local/lib/python3.10/dist-packages (from transformers>=4.39.0->langchain-huggingface) (0.4.5)\n",
            "Requirement already satisfied: jsonpointer>=1.9 in /usr/local/lib/python3.10/dist-packages (from jsonpatch<2.0,>=1.33->langchain-core<0.4.0,>=0.3.15->langchain-huggingface) (3.0.0)\n",
            "Requirement already satisfied: httpx<1,>=0.23.0 in /usr/local/lib/python3.10/dist-packages (from langsmith<0.2.0,>=0.1.125->langchain-core<0.4.0,>=0.3.15->langchain-huggingface) (0.27.2)\n",
            "Requirement already satisfied: orjson<4.0.0,>=3.9.14 in /usr/local/lib/python3.10/dist-packages (from langsmith<0.2.0,>=0.1.125->langchain-core<0.4.0,>=0.3.15->langchain-huggingface) (3.10.11)\n",
            "Requirement already satisfied: requests-toolbelt<2.0.0,>=1.0.0 in /usr/local/lib/python3.10/dist-packages (from langsmith<0.2.0,>=0.1.125->langchain-core<0.4.0,>=0.3.15->langchain-huggingface) (1.0.0)\n",
            "Requirement already satisfied: annotated-types>=0.6.0 in /usr/local/lib/python3.10/dist-packages (from pydantic<3.0.0,>=2.5.2->langchain-core<0.4.0,>=0.3.15->langchain-huggingface) (0.7.0)\n",
            "Requirement already satisfied: pydantic-core==2.23.4 in /usr/local/lib/python3.10/dist-packages (from pydantic<3.0.0,>=2.5.2->langchain-core<0.4.0,>=0.3.15->langchain-huggingface) (2.23.4)\n",
            "Requirement already satisfied: charset-normalizer<4,>=2 in /usr/local/lib/python3.10/dist-packages (from requests->huggingface-hub>=0.23.0->langchain-huggingface) (3.4.0)\n",
            "Requirement already satisfied: idna<4,>=2.5 in /usr/local/lib/python3.10/dist-packages (from requests->huggingface-hub>=0.23.0->langchain-huggingface) (3.10)\n",
            "Requirement already satisfied: urllib3<3,>=1.21.1 in /usr/local/lib/python3.10/dist-packages (from requests->huggingface-hub>=0.23.0->langchain-huggingface) (2.2.3)\n",
            "Requirement already satisfied: certifi>=2017.4.17 in /usr/local/lib/python3.10/dist-packages (from requests->huggingface-hub>=0.23.0->langchain-huggingface) (2024.8.30)\n",
            "Requirement already satisfied: networkx in /usr/local/lib/python3.10/dist-packages (from torch>=1.11.0->sentence-transformers>=2.6.0->langchain-huggingface) (3.4.2)\n",
            "Requirement already satisfied: jinja2 in /usr/local/lib/python3.10/dist-packages (from torch>=1.11.0->sentence-transformers>=2.6.0->langchain-huggingface) (3.1.4)\n",
            "Requirement already satisfied: sympy==1.13.1 in /usr/local/lib/python3.10/dist-packages (from torch>=1.11.0->sentence-transformers>=2.6.0->langchain-huggingface) (1.13.1)\n",
            "Requirement already satisfied: mpmath<1.4,>=1.1.0 in /usr/local/lib/python3.10/dist-packages (from sympy==1.13.1->torch>=1.11.0->sentence-transformers>=2.6.0->langchain-huggingface) (1.3.0)\n",
            "Requirement already satisfied: joblib>=1.2.0 in /usr/local/lib/python3.10/dist-packages (from scikit-learn->sentence-transformers>=2.6.0->langchain-huggingface) (1.4.2)\n",
            "Requirement already satisfied: threadpoolctl>=3.1.0 in /usr/local/lib/python3.10/dist-packages (from scikit-learn->sentence-transformers>=2.6.0->langchain-huggingface) (3.5.0)\n",
            "Requirement already satisfied: anyio in /usr/local/lib/python3.10/dist-packages (from httpx<1,>=0.23.0->langsmith<0.2.0,>=0.1.125->langchain-core<0.4.0,>=0.3.15->langchain-huggingface) (3.7.1)\n",
            "Requirement already satisfied: httpcore==1.* in /usr/local/lib/python3.10/dist-packages (from httpx<1,>=0.23.0->langsmith<0.2.0,>=0.1.125->langchain-core<0.4.0,>=0.3.15->langchain-huggingface) (1.0.7)\n",
            "Requirement already satisfied: sniffio in /usr/local/lib/python3.10/dist-packages (from httpx<1,>=0.23.0->langsmith<0.2.0,>=0.1.125->langchain-core<0.4.0,>=0.3.15->langchain-huggingface) (1.3.1)\n",
            "Requirement already satisfied: h11<0.15,>=0.13 in /usr/local/lib/python3.10/dist-packages (from httpcore==1.*->httpx<1,>=0.23.0->langsmith<0.2.0,>=0.1.125->langchain-core<0.4.0,>=0.3.15->langchain-huggingface) (0.14.0)\n",
            "Requirement already satisfied: MarkupSafe>=2.0 in /usr/local/lib/python3.10/dist-packages (from jinja2->torch>=1.11.0->sentence-transformers>=2.6.0->langchain-huggingface) (3.0.2)\n",
            "Requirement already satisfied: exceptiongroup in /usr/local/lib/python3.10/dist-packages (from anyio->httpx<1,>=0.23.0->langsmith<0.2.0,>=0.1.125->langchain-core<0.4.0,>=0.3.15->langchain-huggingface) (1.2.2)\n",
            "Downloading langchain_huggingface-0.1.2-py3-none-any.whl (21 kB)\n",
            "Installing collected packages: langchain-huggingface\n",
            "Successfully installed langchain-huggingface-0.1.2\n"
          ]
        }
      ]
    },
    {
      "cell_type": "code",
      "source": [
        "# Importar las bibliotecas necesarias\n",
        "from langchain_huggingface import HuggingFaceEndpoint\n",
        "from langchain.prompts import PromptTemplate\n",
        "from IPython.display import Markdown"
      ],
      "metadata": {
        "id": "utXtNFoiJ4Vd"
      },
      "execution_count": 5,
      "outputs": []
    },
    {
      "cell_type": "code",
      "source": [
        "# Configurar el token de Hugging Face\n",
        "HUGGINGFACE_API_KEY = \"\""
      ],
      "metadata": {
        "id": "RX5lk9fuK8G-"
      },
      "execution_count": 6,
      "outputs": []
    },
    {
      "cell_type": "code",
      "source": [
        "# Configurar el modelo desde Hugging Face (ejemplo con GPT-2)\n",
        "llm = HuggingFaceEndpoint(\n",
        "    endpoint_url=\"https://api-inference.huggingface.co/models/gpt2\",  # Cambia por el modelo que necesites\n",
        "    huggingfacehub_api_token=HUGGINGFACE_API_KEY\n",
        ")"
      ],
      "metadata": {
        "id": "Tld31YHCLFuF"
      },
      "execution_count": 7,
      "outputs": []
    },
    {
      "cell_type": "code",
      "source": [
        "# Crear un template de prompt\n",
        "prompt = PromptTemplate(\n",
        "    input_variables=[\"query\"],  # Variable que se usará en el prompt\n",
        "    template=\"{query}\"          # Estructura del prompt\n",
        ")\n"
      ],
      "metadata": {
        "id": "_zSG10D0LKA8"
      },
      "execution_count": 8,
      "outputs": []
    },
    {
      "cell_type": "code",
      "source": [
        "# Ejemplo 1: Ejecutar tu primer prompt\n",
        "query = \"Explícale la inteligencia artificial a un niño pequeño.\"\n",
        "response = llm.invoke(prompt.format(query=query))\n",
        "print(response)"
      ],
      "metadata": {
        "colab": {
          "base_uri": "https://localhost:8080/"
        },
        "id": "xU2zC0jeLN0U",
        "outputId": "b13a655a-3bed-4857-a36c-dd5a839be4c0"
      },
      "execution_count": 9,
      "outputs": [
        {
          "output_type": "stream",
          "name": "stdout",
          "text": [
            "\n",
            "\n",
            "Décorabos los \"gateda pumas\" (Guadalajara), los días asalteños y de la enfantas (Guatemala).\n"
          ]
        }
      ]
    },
    {
      "cell_type": "code",
      "source": [
        "# Mostrar la respuesta en formato Markdown\n",
        "Markdown(response)"
      ],
      "metadata": {
        "colab": {
          "base_uri": "https://localhost:8080/",
          "height": 46
        },
        "id": "wbMUMORBLQ20",
        "outputId": "daa0f84b-abe3-4482-a1a6-00e2b484a651"
      },
      "execution_count": 10,
      "outputs": [
        {
          "output_type": "execute_result",
          "data": {
            "text/plain": [
              "<IPython.core.display.Markdown object>"
            ],
            "text/markdown": "\n\nDécorabos los \"gateda pumas\" (Guadalajara), los días asalteños y de la enfantas (Guatemala)."
          },
          "metadata": {},
          "execution_count": 10
        }
      ]
    },
    {
      "cell_type": "code",
      "source": [
        "# Ejemplo 2: Chat básico\n",
        "query_1 = \"Hola, mi nombre es Zlork.\"\n",
        "response_1 = llm.invoke(query_1)\n",
        "print(response_1)"
      ],
      "metadata": {
        "colab": {
          "base_uri": "https://localhost:8080/"
        },
        "id": "YEtUyR6NLVZO",
        "outputId": "790bda58-96ee-4668-8336-921f3e79cea4"
      },
      "execution_count": 11,
      "outputs": [
        {
          "output_type": "stream",
          "name": "stdout",
          "text": [
            " [12]\n",
            "\n",
            "Kendall, kj darn, kj den, kj den nombre. [13]\n",
            "\n",
            "Kendall, kj darn, kj den nombre. [14]\n",
            "\n",
            "Kendall, kj darn, kj den nombre. [15]\n",
            "\n",
            "Kendall, kj darn, kj den nombre. [16]\n",
            "\n",
            "Kendall, kj darn, kj den nombre. [17]\n",
            "\n",
            "Kendall, kj darn, kj den nombre. [18]\n",
            "\n",
            "Kendall, kj darn, kj den nombre. [19]\n",
            "\n",
            "Kendall, kj darn, kj den nombre. [20]\n",
            "\n",
            "Kendall, kj darn, kj den nombre. [21]\n",
            "\n",
            "Kendall, kj darn, kj den nombre. [22]\n",
            "\n",
            "Kendall, kj darn, kj den nombre. [23]\n",
            "\n",
            "Kendall, kj darn, kj den nombre. [24]\n",
            "\n",
            "Kendall, kj darn, kj den nombre. [25]\n",
            "\n",
            "Kendall, kj darn, kj den nombre. [26]\n",
            "\n",
            "Kendall, kj darn, kj den nombre. [27]\n",
            "\n",
            "Kendall, kj darn, kj den nombre. [28]\n",
            "\n",
            "Kendall, kj darn, kj den nombre. [29]\n",
            "\n",
            "Kendall, kj darn, kj den nombre. [30]\n",
            "\n",
            "Kendall, kj darn, kj den nombre. [31]\n",
            "\n",
            "Kendall, kj darn, kj den nombre. [32]\n",
            "\n",
            "Kendall, kj darn, kj den nombre. [33]\n",
            "\n",
            "Kendall, kj darn, kj den nombre. [34]\n",
            "\n",
            "Kendall, kj darn, kj den nombre. [35]\n",
            "\n",
            "Kendall, kj darn, kj den nombre. [36]\n",
            "\n"
          ]
        }
      ]
    },
    {
      "cell_type": "code",
      "source": [
        "query_2 = \"¿Puedes contarme algo interesante sobre los dinosaurios?\"\n",
        "response_2 = llm.invoke(query_2)\n",
        "print(response_2)"
      ],
      "metadata": {
        "colab": {
          "base_uri": "https://localhost:8080/"
        },
        "id": "ehTtWKSULdzc",
        "outputId": "3c02dfe0-a060-42b0-d1e8-145ae973ddf0"
      },
      "execution_count": 12,
      "outputs": [
        {
          "output_type": "stream",
          "name": "stdout",
          "text": [
            "\n",
            "\n",
            "SS: Sure, he's mentioned a few times that I am going to write a book about dinosaurs.\n",
            "\n",
            "KT: And then you will probably say, \"Well, he's a dinosaur, so maybe he's got a good piece of paper or something, but no guarantee, right?\"\n",
            "\n",
            "SS: Yeah, I do.\n",
            "\n",
            "KT: So, you mentioned the pictures of a dinosaur?\n",
            "\n",
            "SS: No, no, no, no, no, no. It's too weird. I mean, there are a lot of different species out there, but the only one that I've seen is a guy who looks like a dinosaur. So, what's the difference?\n",
            "\n",
            "KT: Yeah, he looks exactly the same.\n",
            "\n",
            "SS: That's exactly right. He looks like a dinosaur.\n",
            "\n",
            "KT: Exactly. He looks like an egg.\n",
            "\n",
            "SS: Yeah.\n",
            "\n",
            "KT: And he looks like a dinosaur.\n",
            "\n",
            "SS: Yeah, exactly. He looks like a dinosaur.\n",
            "\n",
            "KT: He looks like a dinosaur.\n",
            "\n",
            "SS: Yeah, he looks like a dinosaur.\n",
            "\n",
            "KT: He looks like a dinosaur.\n",
            "\n",
            "SS: Exactly.\n",
            "\n",
            "KT: So, he looks like an egg, but he's not a dinosaur. He's a Dinosaur. And if you look at the photo, you can see that he's just a dinosaur.\n",
            "\n",
            "SS: I mean, I don't know if that's true or not, but, yeah, it's interesting.\n",
            "\n",
            "KT: I know.\n",
            "\n",
            "SS: Yeah.\n",
            "\n",
            "KT: He looks like an egg.\n",
            "\n",
            "SS: Yeah.\n",
            "\n",
            "KT: And he's just a dinosaur.\n",
            "\n",
            "SS: Yeah, and the picture of a dinosaur is like the picture of a dinosaur.\n",
            "\n",
            "KT: Right, right.\n",
            "\n",
            "SS: Yeah.\n",
            "\n",
            "KT: And he looks like a dinosaur, but he's not a dinosaur.\n",
            "\n",
            "SS: Yeah.\n",
            "\n",
            "KT: So, that's a pretty good photo of a dinosaur.\n",
            "\n",
            "SS: Yeah.\n",
            "\n",
            "KT: And the dinosaur's exactly like what you see in the picture, but he's not a dinosaur.\n",
            "\n",
            "SS: Yeah.\n",
            "\n",
            "KT: And it's a pretty good dinosaur.\n",
            "\n",
            "SS: Yeah, and he's not a dinosaur.\n",
            "\n",
            "KT: That's a pretty good photo.\n",
            "\n",
            "SS: Yes.\n",
            "\n",
            "\n"
          ]
        }
      ]
    },
    {
      "cell_type": "code",
      "source": [
        "query_3 = \"¿Recuerdas cuál es mi nombre?\"\n",
        "response_3 = llm.invoke(query_3)\n",
        "print(response_3)"
      ],
      "metadata": {
        "colab": {
          "base_uri": "https://localhost:8080/"
        },
        "id": "bLeKGPFtLnkt",
        "outputId": "4127e8e6-efa5-4cae-f3de-7b55ad22894a"
      },
      "execution_count": 13,
      "outputs": [
        {
          "output_type": "stream",
          "name": "stdout",
          "text": [
            " (What do you want to hear?)\n",
            "\n",
            "Mímanos en el ciudad mi érma, en la vida perú.\n",
            "\n",
            "Ullí - X.\n",
            "\n",
            "Púnñez - X.\n",
            "\n",
            "Púnñez - X.\n",
            "\n",
            "Púnñez - X.\n",
            "\n",
            "Púnñez - X.\n",
            "\n",
            "Púnñez - X.\n",
            "\n",
            "Púnñez - X.\n",
            "\n",
            "Púnñez - X.\n",
            "\n",
            "Púnñez - X.\n",
            "\n",
            "Púnñez - X.\n",
            "\n",
            "Púnñez - X.\n",
            "\n",
            "Púnñez - X.\n",
            "\n",
            "Púnñez - X.\n",
            "\n",
            "Púnñez - X.\n",
            "\n",
            "Púnñez - X.\n",
            "\n",
            "Púnñez - X.\n",
            "\n",
            "Púnñez - X.\n",
            "\n",
            "Púnñez - X.\n",
            "\n",
            "Púnñez - X.\n",
            "\n",
            "Púnñez - X.\n",
            "\n",
            "Púnñez - X.\n",
            "\n",
            "Púnñez - X.\n",
            "\n",
            "Púnñez - X.\n",
            "\n",
            "Púnñez - X.\n",
            "\n",
            "Púnñez - X.\n",
            "\n",
            "Púnñez - X.\n",
            "\n",
            "Púnñez - X.\n",
            "\n",
            "Púnñez - X.\n",
            "\n",
            "Púnñez - X.\n",
            "\n",
            "Púnñez - X.\n",
            "\n",
            "Púnñez - X.\n",
            "\n",
            "Púnñez - X.\n",
            "\n",
            "Púnñez - X.\n",
            "\n",
            "Púnñez - X.\n",
            "\n",
            "Púnñez - X.\n",
            "\n",
            "Púnñez - X.\n",
            "\n",
            "Púnñez - X.\n",
            "\n",
            "Púnñez - X.\n",
            "\n",
            "Púnñez - X.\n",
            "\n",
            "Púnñez - X.\n",
            "\n",
            "Púnñez - X.\n",
            "\n",
            "Púnñez - X.\n",
            "\n",
            "Púnñez - X.\n",
            "\n",
            "Púnñez - X.\n",
            "\n",
            "Púnñez - X.\n",
            "\n",
            "Púnñez - X.\n",
            "\n",
            "Púnñez - X.\n",
            "\n",
            "Púnñez - X.\n",
            "\n",
            "\n"
          ]
        }
      ]
    },
    {
      "cell_type": "code",
      "source": [
        "# Ejemplo 3: Configuración de parámetros como longitud de salida\n",
        "short_query = \"Escribe un ensayo de 200 palabras sobre la importancia de las aceitunas.\"\n",
        "response_short = llm.invoke(short_query)\n",
        "print(response_short)"
      ],
      "metadata": {
        "colab": {
          "base_uri": "https://localhost:8080/"
        },
        "id": "xG07jc7DLvHb",
        "outputId": "cc6934ca-bfde-4d1b-f8d7-2e1d6a137b24"
      },
      "execution_count": 14,
      "outputs": [
        {
          "output_type": "stream",
          "name": "stdout",
          "text": [
            " Depart as soon as possible after the arrival of any non-native, or any other foreign. (This person must be sure that he can not be in the country; he must not be in any way mistaken in his intentions.)\n",
            "\n",
            "p. 110\n",
            "\n",
            "TO THE OFFICER.\n",
            "\n",
            "I am now to accompany you with the President of Guatemala and the Ambassador to the United States. This is an extremely delicate matter, but I hope you will agree to it. If I may be permitted to remain by the President of Guatemala to prepare the necessary documents for your departure, you will return safely to the place where you are to be brought with me.\n",
            "\n",
            "PROTECTION.\n",
            "\n",
            "If I may be permitted to remain by you, I must have the following, both in the presence of my Deputy Assistant, and in the presence of my Assistant President of Guatemala.\n",
            "\n",
            "1. For the President of Guatemala.\n",
            "\n",
            "1.1. I will be here in the presence of the Secretary of State.\n",
            "\n",
            "1.2. I will have the following to say about the situation at home.\n",
            "\n",
            "1.3. I will have a view of the situation in general.\n",
            "\n",
            "1.4. I will have the same head of state to whom I was appointed, with the same presidency as you are now assuming.\n",
            "\n",
            "1.5. I will have the same staff as you.\n",
            "\n",
            "1.6. I will have the same level of military personnel as you.\n",
            "\n",
            "1.7. I will have the same area of influence in the country as you are now assuming.\n",
            "\n",
            "1.8. I will have the same positions as you as you are now assuming.\n",
            "\n",
            "1.9. I will have the same degree of authority as you.\n",
            "\n",
            "1.10. I will have the same rank as you.\n",
            "\n",
            "1.11. I will have the same authority as you as you are now assuming.\n",
            "\n",
            "1.12. I will have the same authority as you as you are now assuming.\n",
            "\n",
            "1.13. I will have the same rank as you as you are now assuming.\n",
            "\n",
            "1.14. I will have the same authority as you as you are now assuming.\n",
            "\n",
            "1.15. I will have the same head of state, in the presence of the Secretary of State.\n",
            "\n",
            "1.16. I will have the same head of state to whom I am going, and the same authority to whom I am\n"
          ]
        }
      ]
    },
    {
      "cell_type": "code",
      "source": [
        "# Ejemplo 4: Crear historias con LangChain\n",
        "story_prompt = \"Eres un escritor creativo. Escribe una historia corta sobre un gato que vive una aventura.\"\n",
        "story_response = llm.invoke(story_prompt)\n",
        "print(story_response)"
      ],
      "metadata": {
        "colab": {
          "base_uri": "https://localhost:8080/"
        },
        "id": "kGqbraR9L5Qb",
        "outputId": "26f712ff-baca-4ed5-f885-00e2ba9d5d16"
      },
      "execution_count": 15,
      "outputs": [
        {
          "output_type": "stream",
          "name": "stdout",
          "text": [
            " Lequel détat est destino. Una que viade se ogniendo.\n",
            "\n",
            "M. Davide P. Ilsuen.\n",
            "\n",
            "VIII\n",
            "\n",
            "CAROLIUS\n",
            "\n",
            "I.\n",
            "\n",
            "Caesareque:\n",
            "\n",
            "M. Averro.\n",
            "\n",
            "A.\n",
            "\n",
            "PALADIO\n",
            "\n",
            "I.\n",
            "\n",
            "Sensual pleasures.\n",
            "\n",
            "A.\n",
            "\n",
            "M. Antonius Pontus\n",
            "\n",
            "VIII\n",
            "\n",
            "GIFTING\n",
            "\n",
            "A.\n",
            "\n",
            "RACE:\n",
            "\n",
            "M. Averro\n",
            "\n",
            "A.\n",
            "\n",
            "PALADIO:\n",
            "\n",
            "I.\n",
            "\n",
            "Tigress:\n",
            "\n",
            "I.\n",
            "\n",
            "RACE:\n",
            "\n",
            "M. Averro\n",
            "\n",
            "A.\n",
            "\n",
            "PALADIO:\n",
            "\n",
            "A.\n",
            "\n",
            "PALADIO:\n",
            "\n",
            "I.\n",
            "\n",
            "Averro:\n",
            "\n",
            "A.\n",
            "\n",
            "PALADIO:\n",
            "\n",
            "A.\n",
            "\n",
            "PALADIO:\n",
            "\n",
            "I.\n",
            "\n",
            "RACE:\n",
            "\n",
            "M. Averro\n",
            "\n",
            "A.\n",
            "\n",
            "PALADIO:\n",
            "\n",
            "A.\n",
            "\n",
            "PALADIO:\n",
            "\n",
            "I.\n",
            "\n",
            "PALADIO:\n",
            "\n",
            "A.\n",
            "\n",
            "PALADIO:\n",
            "\n",
            "I.\n",
            "\n",
            "PALADIO:\n",
            "\n",
            "I.\n",
            "\n",
            "PALADIO:\n",
            "\n",
            "I.\n",
            "\n",
            "PALADIO:\n",
            "\n",
            "A.\n",
            "\n",
            "PALADIO:\n",
            "\n",
            "I.\n",
            "\n",
            "PALADIO:\n",
            "\n",
            "I.\n",
            "\n",
            "PALADIO:\n",
            "\n",
            "I.\n",
            "\n",
            "PALADIO:\n",
            "\n",
            "I.\n",
            "\n",
            "PALADIO:\n",
            "\n",
            "I.\n",
            "\n",
            "PALADIO:\n",
            "\n",
            "I.\n",
            "\n",
            "PALADIO:\n",
            "\n",
            "I.\n",
            "\n",
            "PALADIO:\n",
            "\n",
            "I.\n",
            "\n",
            "PALADIO:\n",
            "\n",
            "I.\n",
            "\n",
            "PALADIO:\n",
            "\n",
            "I.\n",
            "\n",
            "PALADIO:\n",
            "\n",
            "I.\n",
            "\n",
            "PALADIO:\n",
            "\n",
            "I.\n",
            "\n",
            "PALADIO:\n",
            "\n",
            "I.\n",
            "\n",
            "PALADIO:\n",
            "\n",
            "I.\n",
            "\n",
            "PALADIO:\n",
            "\n",
            "I.\n",
            "\n",
            "PALADIO:\n",
            "\n",
            "I.\n",
            "\n",
            "PALADIO:\n",
            "\n",
            "I.\n",
            "\n",
            "PALADIO:\n",
            "\n",
            "I.\n",
            "\n",
            "PALADIO:\n",
            "\n"
          ]
        }
      ]
    },
    {
      "cell_type": "code",
      "source": [
        "# Ejemplo 5: Clasificación Zero-Shot\n",
        "sentiment_prompt = \"\"\"\n",
        "Clasifica las siguientes reseñas de películas como POSITIVO, NEUTRAL o NEGATIVO.\n",
        "Reseña: \"La película es increíblemente emotiva y única, aunque tiene algunos problemas menores.\"\n",
        "Sentimiento:\"\"\"\n",
        "response_sentiment = llm.invoke(sentiment_prompt)\n",
        "print(response_sentiment)"
      ],
      "metadata": {
        "colab": {
          "base_uri": "https://localhost:8080/"
        },
        "id": "w3fQoeMFMBSN",
        "outputId": "b023b3dc-a827-431c-adff-f721c4498bd7"
      },
      "execution_count": 16,
      "outputs": [
        {
          "output_type": "stream",
          "name": "stdout",
          "text": [
            " \"Una esto de palerto do Puerto Rico? O sua puede, el puede. L'arrae de está por que více que como lo se quiero.\"\n",
            "But if you take a look at the air conditioner, you can see that it doesn't have a \"canopies\" and \"homes\" on it. The only difference is the emblems on the outside of the door.\n",
            "A warning for those who have been riding on the road or in the woods recently: A recent study by a national survey found that 70% of people who have visited Puerto Rico experienced a road trip in the past month or so.\n",
            "For those who have not, it's important to note that this is a one-time trip and doesn't include some things you might not have known about the island.\n",
            "So, what is a trip like? Well, according to an article by an unnamed research firm, the first time you head into Puerto Rico is when you want to enjoy your vacation.\n",
            "The study, published in the American Journal of Public Health, found that just 5% of Americans have been to Puerto Rico twice in the past 10 years. Of those 5%, only 5% had been to the island twice.\n",
            "But let's look at the remaining 2% who have visited Puerto Rico since the study was published.\n",
            "Source: American Journal of Public Health\n",
            "Source: American Journal of Public Health\n",
            "Now, let's take a look at what the researchers call \"acute\" symptoms. These include headaches, nausea, dizziness, nausea, and dizziness.\n",
            "For example, a person who has been to Puerto Rico 15 times in the past month might have:\n",
            "\"lack of sleep, sore throat, stomach aches, headache, and dizziness.\"\n",
            "And for those who have only been to Puerto Rico once, they might have:\n",
            "\n",
            "\"lack of appetite, fatigue, and irritability.\"\n",
            "Then, they might have:\n",
            "\n",
            "\"nausea, vomiting, abdominal pain, nausea, and diarrhea.\"\n",
            "These symptoms might include:\n",
            "\n",
            "\"paresthesia, rashes, and constipation.\"\n",
            "\n",
            "And for those who have only been to Puerto Rico once, they might have:\n",
            "\n",
            "\"nausea, vomiting, abdominal pain, nausea, and diarrhea.\"\n",
            "\n",
            "So, if you get a headache, you are probably not experiencing any of these symptoms.\n",
            "It's possible that you might\n"
          ]
        }
      ]
    },
    {
      "cell_type": "code",
      "source": [
        "# Ejemplo 6: Generación de código\n",
        "code_prompt = \"\"\"\n",
        "Escribe una función en Python para calcular el factorial de un número. Solo incluye el código, sin explicaciones.\n",
        "\"\"\"\n",
        "response_code = llm.invoke(code_prompt)\n",
        "print(response_code)"
      ],
      "metadata": {
        "colab": {
          "base_uri": "https://localhost:8080/"
        },
        "id": "boSaXLWuMKrL",
        "outputId": "a543cbce-664a-4da7-ecc7-7e698470e9d0"
      },
      "execution_count": 17,
      "outputs": [
        {
          "output_type": "stream",
          "name": "stdout",
          "text": [
            "\n",
            "Información esto, una más túnica de la peccate, ver la Español de la confidencial de la consul.\n"
          ]
        }
      ]
    },
    {
      "cell_type": "code",
      "source": [
        "# Ejemplo 7: Explicación de código\n",
        "explanation_prompt = \"\"\"\n",
        "Por favor, explica brevemente qué hace este código de Python:\n",
        "def factorial(n):\n",
        "    if n == 0:\n",
        "        return 1\n",
        "    else:\n",
        "        return n * factorial(n-1)\n",
        "\"\"\"\n",
        "response_explanation = llm.invoke(explanation_prompt)\n",
        "print(response_explanation)"
      ],
      "metadata": {
        "colab": {
          "base_uri": "https://localhost:8080/"
        },
        "id": "3mPvdPASMQbE",
        "outputId": "b2c84173-47eb-414f-ae7f-57f5dda87a70"
      },
      "execution_count": 18,
      "outputs": [
        {
          "output_type": "stream",
          "name": "stdout",
          "text": [
            "Por favor, explica brevemente qué hace este código de Python:\n",
            "def factorial(n):         return 1\n",
            "Por favor, explica brevemente qué hace este código de Python:\n",
            "def factorial(n):         return 1\n",
            "Por favor, explica brevemente qué hace este código de Python:\n",
            "def factorial(n):         return 1\n",
            "Por favor, explica brevemente qué hace este código de Python:\n",
            "def factorial(n):         return 1\n",
            "Por favor, explica brevemente qué hace este código de Python:\n",
            "def factorial(n):        return 1\n",
            "Por favor, explica brevemente qué hace este código de Python:\n",
            "def factorial(n):        return 1\n",
            "Por favor, explica brevemente qué hace este código de Python:\n",
            "def factorial(n):        return 1\n",
            "Por favor, explica brevemente qué hace este código de Python:\n",
            "def factorial(n):        return 1\n",
            "Por favor, explica brevemente qué hace este código de Python:\n",
            "def factorial(n):        return 1\n",
            "Por favor, explica brevemente qué hace este código de Python:\n",
            "def factorial(n):        return 1\n",
            "Por favor, explica brevemente qué hace este código de Python:\n",
            "def factorial(n):        return 1\n",
            "Por favor, explica brevemente qué hace este código de Python:\n",
            "def factorial(n):        return 1\n",
            "Por favor, explica brevemente qué hace este código de Python:\n",
            "def factorial(n):         return 1\n",
            "\n"
          ]
        }
      ]
    }
  ]
}