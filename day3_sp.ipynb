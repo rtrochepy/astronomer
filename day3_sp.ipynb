{
  "nbformat": 4,
  "nbformat_minor": 0,
  "metadata": {
    "colab": {
      "provenance": [],
      "authorship_tag": "ABX9TyOVxuYLAZ7z9b3wO3otvnUs",
      "include_colab_link": true
    },
    "kernelspec": {
      "name": "python3",
      "display_name": "Python 3"
    },
    "language_info": {
      "name": "python"
    }
  },
  "cells": [
    {
      "cell_type": "markdown",
      "metadata": {
        "id": "view-in-github",
        "colab_type": "text"
      },
      "source": [
        "<a href=\"https://colab.research.google.com/github/rtrochepy/astronomer/blob/main/day3_sp.ipynb\" target=\"_parent\"><img src=\"https://colab.research.google.com/assets/colab-badge.svg\" alt=\"Open In Colab\"/></a>"
      ]
    },
    {
      "cell_type": "markdown",
      "source": [
        "Configuración\n",
        "\n",
        "Comienza instalando e importando el SDK de la API de Gemini en Python.\n"
      ],
      "metadata": {
        "id": "v0fFuQHAX4Ae"
      }
    },
    {
      "cell_type": "code",
      "execution_count": 1,
      "metadata": {
        "id": "_y4y0VymXNkZ"
      },
      "outputs": [],
      "source": [
        "%pip install -q -U 'google-generativeai>=0.8.3'"
      ]
    },
    {
      "cell_type": "code",
      "source": [
        "import google.generativeai as genai"
      ],
      "metadata": {
        "id": "BEtO6EP-YCrl"
      },
      "execution_count": 2,
      "outputs": []
    },
    {
      "cell_type": "markdown",
      "source": [
        "Configura tu clave API\n",
        "\n",
        "Para ejecutar la siguiente celda, tu clave API debe estar almacenada como un secreto en Kaggle llamado GOOGLE_API_KEY.\n",
        "\n",
        "Si aún no tienes una clave API, puedes obtener una en AI Studio. Consulta las instrucciones detalladas en la documentación.\n",
        "\n",
        "Para que la clave esté disponible a través de los secretos de Kaggle, selecciona \"Secrets\" en el menú \"Add-ons\" y sigue las instrucciones para agregar tu clave o habilitarla para este notebook.\n"
      ],
      "metadata": {
        "id": "gRBYzXtrYGZE"
      }
    },
    {
      "cell_type": "code",
      "source": [
        "from kaggle_secrets import UserSecretsClient\n",
        "\n",
        "GOOGLE_API_KEY = UserSecretsClient().get_secret(\"GOOGLE_API_KEY\")\n",
        "genai.configure(api_key=GOOGLE_API_KEY)\n"
      ],
      "metadata": {
        "id": "mZYNV4_0YG7s"
      },
      "execution_count": null,
      "outputs": []
    },
    {
      "cell_type": "code",
      "source": [
        "genai.configure(api_key='')"
      ],
      "metadata": {
        "id": "OUs1r_seYJEm"
      },
      "execution_count": 3,
      "outputs": []
    },
    {
      "cell_type": "markdown",
      "source": [
        "Crea una base de datos local\n",
        "\n",
        "En este ejemplo básico, crearás una base de datos SQLite local y agregarás datos sintéticos para tener algo con lo que hacer consultas.\n",
        "\n",
        "Carga la extensión de SQL en IPython para que puedas interactuar con la base de datos usando comandos mágicos (%).\n"
      ],
      "metadata": {
        "id": "KC9R25FnYMtV"
      }
    },
    {
      "cell_type": "code",
      "source": [
        "%load_ext sql\n",
        "%sql sqlite:///sample.db\n"
      ],
      "metadata": {
        "id": "jcTBgKecYPOF"
      },
      "execution_count": 4,
      "outputs": []
    },
    {
      "cell_type": "markdown",
      "source": [
        "Crea las tablas e inserta algunos datos sintéticos. Si lo deseas, puedes modificar la estructura y los datos."
      ],
      "metadata": {
        "id": "lFq6HDkgYR-n"
      }
    },
    {
      "cell_type": "code",
      "source": [
        "%%sql\n",
        "-- Crea la tabla 'productos'\n",
        "CREATE TABLE IF NOT EXISTS productos (\n",
        "  \tproducto_id INTEGER PRIMARY KEY AUTOINCREMENT,\n",
        "  \tnombre_producto VARCHAR(255) NOT NULL,\n",
        "  \tprecio DECIMAL(10, 2) NOT NULL\n",
        "  );\n",
        "\n",
        "-- Crea la tabla 'personal'\n",
        "CREATE TABLE IF NOT EXISTS personal (\n",
        "  \templeado_id INTEGER PRIMARY KEY AUTOINCREMENT,\n",
        "  \tnombre VARCHAR(255) NOT NULL,\n",
        "  \tapellido VARCHAR(255) NOT NULL\n",
        "  );\n",
        "\n",
        "-- Crea la tabla 'ordenes'\n",
        "CREATE TABLE IF NOT EXISTS ordenes (\n",
        "  \torden_id INTEGER PRIMARY KEY AUTOINCREMENT,\n",
        "  \tnombre_cliente VARCHAR(255) NOT NULL,\n",
        "  \templeado_id INTEGER NOT NULL,\n",
        "  \tproducto_id INTEGER NOT NULL,\n",
        "  \tFOREIGN KEY (empleado_id) REFERENCES personal (empleado_id),\n",
        "  \tFOREIGN KEY (producto_id) REFERENCES productos (producto_id)\n",
        "  );\n",
        "\n",
        "-- Inserta datos en la tabla 'productos'\n",
        "INSERT INTO productos (nombre_producto, precio) VALUES\n",
        "  \t('Laptop', 799.99),\n",
        "  \t('Teclado', 129.99),\n",
        "  \t('Mouse', 29.99);\n",
        "\n",
        "-- Inserta datos en la tabla 'personal'\n",
        "INSERT INTO personal (nombre, apellido) VALUES\n",
        "  \t('Alicia', 'Pérez'),\n",
        "  \t('Roberto', 'Gómez'),\n",
        "  \t('Carlos', 'Ramírez');\n",
        "\n",
        "-- Inserta datos en la tabla 'ordenes'\n",
        "INSERT INTO ordenes (nombre_cliente, empleado_id, producto_id) VALUES\n",
        "  \t('David Lee', 1, 1),\n",
        "  \t('Emilia Chen', 2, 2),\n",
        "  \t('Francisco Brown', 1, 3);\n"
      ],
      "metadata": {
        "colab": {
          "base_uri": "https://localhost:8080/"
        },
        "id": "C_lOVW6gYWPn",
        "outputId": "87c8d222-4992-4437-ef6e-6383b23ad64c"
      },
      "execution_count": 5,
      "outputs": [
        {
          "output_type": "stream",
          "name": "stdout",
          "text": [
            " * sqlite:///sample.db\n",
            "Done.\n",
            "Done.\n",
            "Done.\n",
            "3 rows affected.\n",
            "3 rows affected.\n",
            "3 rows affected.\n"
          ]
        },
        {
          "output_type": "execute_result",
          "data": {
            "text/plain": [
              "[]"
            ]
          },
          "metadata": {},
          "execution_count": 5
        }
      ]
    },
    {
      "cell_type": "markdown",
      "source": [
        "Define funciones para interactuar con la base de datos\n",
        "\n",
        "Las llamadas a funciones en el SDK de Python de la API de Gemini pueden implementarse definiendo un esquema OpenAPI que se pasa al modelo. Alternativamente, puedes definir funciones en Python y permitir que el SDK inspeccione estas funciones para definir automáticamente el esquema.\n",
        "\n",
        "Es importante que las funciones tengan anotaciones de tipo y docstrings precisas, ya que el modelo no puede inspeccionar el cuerpo de la función; la documentación actúa como la interfaz.\n",
        "\n",
        "Proporcionaremos tres funcionalidades clave: listar tablas, describir una tabla y ejecutar una consulta. Esto permitirá al modelo (o a otro usuario) entender e interrogar la base de datos.\n",
        "\n",
        "Primero, crea una conexión de base de datos que será utilizada por todas las funciones.\n"
      ],
      "metadata": {
        "id": "L9mBXJw-YaNk"
      }
    },
    {
      "cell_type": "code",
      "source": [
        "import sqlite3\n",
        "\n",
        "archivo_bd = \"sample.db\"\n",
        "conexion_bd = sqlite3.connect(archivo_bd)\n"
      ],
      "metadata": {
        "id": "JoQsEiIHYcRF"
      },
      "execution_count": 6,
      "outputs": []
    },
    {
      "cell_type": "markdown",
      "source": [
        "La primera función listará todas las tablas disponibles en la base de datos. Defínela y pruébala para asegurarte de que funciona."
      ],
      "metadata": {
        "id": "z9qOWAkdYe68"
      }
    },
    {
      "cell_type": "code",
      "source": [
        "def listar_tablas() -> list[str]:\n",
        "    \"\"\"Obtén los nombres de todas las tablas en la base de datos.\"\"\"\n",
        "    print(' - Llamada a BD: listar_tablas')\n",
        "    cursor = conexion_bd.cursor()\n",
        "    # Obtén los nombres de las tablas.\n",
        "    cursor.execute(\"SELECT name FROM sqlite_master WHERE type='table';\")\n",
        "    tablas = cursor.fetchall()\n",
        "    return [t[0] for t in tablas]\n",
        "listar_tablas()\n"
      ],
      "metadata": {
        "colab": {
          "base_uri": "https://localhost:8080/"
        },
        "id": "1P0AIxTJYfZc",
        "outputId": "f2330ce1-5c4d-4195-b2e1-4bf368431f7f"
      },
      "execution_count": 7,
      "outputs": [
        {
          "output_type": "stream",
          "name": "stdout",
          "text": [
            " - Llamada a BD: listar_tablas\n"
          ]
        },
        {
          "output_type": "execute_result",
          "data": {
            "text/plain": [
              "['productos', 'sqlite_sequence', 'personal', 'ordenes']"
            ]
          },
          "metadata": {},
          "execution_count": 7
        }
      ]
    },
    {
      "cell_type": "markdown",
      "source": [
        "Una vez que se conocen las tablas disponibles, el siguiente paso es entender qué columnas están disponibles en una tabla dada. Define esta función y pruébala."
      ],
      "metadata": {
        "id": "_YIa7B1MYmrE"
      }
    },
    {
      "cell_type": "code",
      "source": [
        "def describir_tabla(nombre_tabla: str) -> list[tuple[str, str]]:\n",
        "    \"\"\"Consulta el esquema de la tabla.\n",
        "    Retorna:\n",
        "      Lista de columnas, donde cada entrada es una tupla de (columna, tipo).\n",
        "    \"\"\"\n",
        "    print(' - Llamada a BD: describir_tabla')\n",
        "    cursor = conexion_bd.cursor()\n",
        "    cursor.execute(f\"PRAGMA table_info({nombre_tabla});\")\n",
        "    esquema = cursor.fetchall()\n",
        "    # [índice de columna, nombre de columna, tipo de columna, ...]\n",
        "    return [(col[1], col[2]) for col in esquema]\n",
        "describir_tabla(\"productos\")\n"
      ],
      "metadata": {
        "colab": {
          "base_uri": "https://localhost:8080/"
        },
        "id": "ZouiWN8jYrv-",
        "outputId": "9a16a3f6-2f6a-4ffc-a82d-ea7a6a28d9e3"
      },
      "execution_count": 8,
      "outputs": [
        {
          "output_type": "stream",
          "name": "stdout",
          "text": [
            " - Llamada a BD: describir_tabla\n"
          ]
        },
        {
          "output_type": "execute_result",
          "data": {
            "text/plain": [
              "[('producto_id', 'INTEGER'),\n",
              " ('nombre_producto', 'VARCHAR(255)'),\n",
              " ('precio', 'DECIMAL(10, 2)')]"
            ]
          },
          "metadata": {},
          "execution_count": 8
        }
      ]
    },
    {
      "cell_type": "markdown",
      "source": [
        "Ahora que el sistema sabe qué tablas y columnas están presentes, tiene suficiente información para generar y ejecutar una consulta SELECT. Define esta funcionalidad y pruébala."
      ],
      "metadata": {
        "id": "lFq2tV7WYvpu"
      }
    },
    {
      "cell_type": "code",
      "source": [
        "def ejecutar_consulta(sql: str) -> list[list[str]]:\n",
        "    \"\"\"Ejecuta una instrucción SELECT, retornando los resultados.\"\"\"\n",
        "    print(' - Llamada a BD: ejecutar_consulta')\n",
        "    cursor = conexion_bd.cursor()\n",
        "    cursor.execute(sql)\n",
        "    return cursor.fetchall()\n",
        "ejecutar_consulta(\"SELECT * FROM productos\")\n"
      ],
      "metadata": {
        "colab": {
          "base_uri": "https://localhost:8080/"
        },
        "id": "ZtB2TtK9YwhE",
        "outputId": "0d8924e0-e390-4687-e77a-34ac23684293"
      },
      "execution_count": 9,
      "outputs": [
        {
          "output_type": "stream",
          "name": "stdout",
          "text": [
            " - Llamada a BD: ejecutar_consulta\n"
          ]
        },
        {
          "output_type": "execute_result",
          "data": {
            "text/plain": [
              "[(1, 'Laptop', 799.99), (2, 'Teclado', 129.99), (3, 'Mouse', 29.99)]"
            ]
          },
          "metadata": {},
          "execution_count": 9
        }
      ]
    },
    {
      "cell_type": "markdown",
      "source": [
        "Implementar llamadas a funciones\n",
        "\n",
        "Ahora puedes combinar todo esto en una llamada a la API de Gemini.\n",
        "\n",
        "La funcionalidad de llamadas a funciones funciona añadiendo mensajes específicos a una sesión de chat. Cuando se definen esquemas de funciones y están disponibles para el modelo, en lugar de devolver una respuesta en texto, el modelo puede devolver una llamada a función (`function_call`). Cuando esto sucede, el cliente debe responder con una respuesta de función (`function_response`), permitiendo que la conversación continúe normalmente.\n",
        "\n",
        "El SDK también admite llamadas automáticas a funciones, donde las funciones definidas se invocan automáticamente. Esto es útil pero debe exponerse solo cuando sea seguro, como cuando las funciones no tienen efectos secundarios.\n"
      ],
      "metadata": {
        "id": "wjY4NbSVY5OF"
      }
    },
    {
      "cell_type": "code",
      "source": [
        "# Estas son las funciones definidas anteriormente.\n",
        "herramientas_bd = [listar_tablas, describir_tabla, ejecutar_consulta]\n",
        "instruccion = \"\"\"Eres un chatbot útil que puede interactuar con una base de datos SQL para una tienda de computadoras.\n",
        "Toma las preguntas de los usuarios y conviértelas en consultas SQL usando las herramientas disponibles.\n",
        "Una vez que tengas la información que necesitas, responde la pregunta del usuario utilizando los datos devueltos.\n",
        "Usa listar_tablas para ver las tablas disponibles, describir_tabla para entender el esquema y ejecutar_consulta para emitir consultas SELECT en SQL.\"\"\"\n",
        "modelo = genai.GenerativeModel(\n",
        "    \"models/gemini-1.5-flash-latest\", tools=herramientas_bd, system_instruction=instruccion\n",
        ")\n"
      ],
      "metadata": {
        "id": "bp-QaFASY96l"
      },
      "execution_count": 10,
      "outputs": []
    },
    {
      "cell_type": "markdown",
      "source": [
        "Ahora puedes iniciar una conversación en el chat y hacer preguntas sobre el contenido de la base de datos."
      ],
      "metadata": {
        "id": "3DThqLPAZBgX"
      }
    },
    {
      "cell_type": "code",
      "source": [
        "from google.api_core import retry"
      ],
      "metadata": {
        "id": "ihISptagaHMm"
      },
      "execution_count": 16,
      "outputs": []
    },
    {
      "cell_type": "code",
      "source": [
        "# Define la política de reintento\n",
        "retry_policy = {\"retry\": retry.Retry(predicate=retry.if_transient_error)}"
      ],
      "metadata": {
        "id": "nsMu_APpaKu3"
      },
      "execution_count": 17,
      "outputs": []
    },
    {
      "cell_type": "code",
      "source": [
        "# Inicia el chat\n",
        "chat = modelo.start_chat(enable_automatic_function_calling=True)"
      ],
      "metadata": {
        "id": "VJMXN8hvaOt2"
      },
      "execution_count": 18,
      "outputs": []
    },
    {
      "cell_type": "code",
      "source": [
        "# Envía un mensaje al modelo\n",
        "respuesta = chat.send_message(\"¿Cuál es el producto más barato?\", request_options=retry_policy)\n",
        "print(respuesta.text)"
      ],
      "metadata": {
        "colab": {
          "base_uri": "https://localhost:8080/",
          "height": 104
        },
        "id": "NfQjCxm-aSRu",
        "outputId": "a0d1add5-2571-46f6-eda5-90d6394e83df"
      },
      "execution_count": 19,
      "outputs": [
        {
          "output_type": "stream",
          "name": "stdout",
          "text": [
            " - Llamada a BD: listar_tablas\n",
            " - Llamada a BD: describir_tabla\n",
            " - Llamada a BD: ejecutar_consulta\n",
            "El producto más barato es el Mouse.\n",
            "\n"
          ]
        }
      ]
    },
    {
      "cell_type": "code",
      "source": [
        "chat = modelo.start_chat(enable_automatic_function_calling=True)\n",
        "respuesta = chat.send_message(\"¿Cuál es el producto más barato?\", request_options={\"retry\": retry.Retry(predicate=retry.if_transient_error)})\n",
        "print(respuesta.text)\n"
      ],
      "metadata": {
        "colab": {
          "base_uri": "https://localhost:8080/",
          "height": 104
        },
        "id": "kfPePnD4ZDqF",
        "outputId": "f6c1c39b-daff-4de1-b1eb-5b1688561460"
      },
      "execution_count": 20,
      "outputs": [
        {
          "output_type": "stream",
          "name": "stdout",
          "text": [
            " - Llamada a BD: listar_tablas\n",
            " - Llamada a BD: describir_tabla\n",
            " - Llamada a BD: ejecutar_consulta\n",
            "El producto más barato es el Mouse.\n",
            "\n"
          ]
        }
      ]
    },
    {
      "cell_type": "markdown",
      "source": [
        "Continúa la conversación haciendo una pregunta de seguimiento."
      ],
      "metadata": {
        "id": "JuiG10rtZXc8"
      }
    },
    {
      "cell_type": "code",
      "source": [
        "respuesta = chat.send_message(\"¿Y cuánto cuesta?\", request_options={\"retry\": retry.Retry(predicate=retry.if_transient_error)})\n",
        "print(respuesta.text)\n"
      ],
      "metadata": {
        "colab": {
          "base_uri": "https://localhost:8080/",
          "height": 69
        },
        "id": "PHI0pcgYZZ9_",
        "outputId": "1d3e3b89-2b70-4cbf-9129-8b67e915173b"
      },
      "execution_count": 21,
      "outputs": [
        {
          "output_type": "stream",
          "name": "stdout",
          "text": [
            " - Llamada a BD: ejecutar_consulta\n",
            "El Mouse cuesta $29.99.\n",
            "\n"
          ]
        }
      ]
    },
    {
      "cell_type": "markdown",
      "source": [
        "Explora la sesión de chat y haz tus propias preguntas."
      ],
      "metadata": {
        "id": "iXQGY5_xZdQw"
      }
    },
    {
      "cell_type": "code",
      "source": [
        "modelo_pro = genai.GenerativeModel(\n",
        "    \"models/gemini-1.5-pro-latest\", tools=herramientas_bd, system_instruction=instruccion\n",
        ")\n",
        "chat_pro = modelo_pro.start_chat(enable_automatic_function_calling=True)\n",
        "respuesta = chat_pro.send_message('¿Qué vendedor vendió el producto más barato?', request_options={\"retry\": retry.Retry(predicate=retry.if_transient_error)})\n",
        "print(respuesta.text)\n"
      ],
      "metadata": {
        "colab": {
          "base_uri": "https://localhost:8080/",
          "height": 208
        },
        "id": "YWAzEF7fZgXe",
        "outputId": "b9523e92-fe43-4a95-8876-d73343418b38"
      },
      "execution_count": 22,
      "outputs": [
        {
          "output_type": "stream",
          "name": "stdout",
          "text": [
            " - Llamada a BD: listar_tablas\n",
            " - Llamada a BD: describir_tabla\n",
            " - Llamada a BD: describir_tabla\n",
            " - Llamada a BD: describir_tabla\n",
            " - Llamada a BD: ejecutar_consulta\n"
          ]
        },
        {
          "output_type": "stream",
          "name": "stderr",
          "text": [
            "WARNING:tornado.access:429 POST /v1beta/models/gemini-1.5-pro-latest:generateContent?%24alt=json%3Benum-encoding%3Dint (127.0.0.1) 684.03ms\n",
            "WARNING:tornado.access:429 POST /v1beta/models/gemini-1.5-pro-latest:generateContent?%24alt=json%3Benum-encoding%3Dint (127.0.0.1) 912.03ms\n",
            "WARNING:tornado.access:429 POST /v1beta/models/gemini-1.5-pro-latest:generateContent?%24alt=json%3Benum-encoding%3Dint (127.0.0.1) 685.29ms\n",
            "WARNING:tornado.access:429 POST /v1beta/models/gemini-1.5-pro-latest:generateContent?%24alt=json%3Benum-encoding%3Dint (127.0.0.1) 710.17ms\n",
            "WARNING:tornado.access:429 POST /v1beta/models/gemini-1.5-pro-latest:generateContent?%24alt=json%3Benum-encoding%3Dint (127.0.0.1) 711.17ms\n"
          ]
        },
        {
          "output_type": "stream",
          "name": "stdout",
          "text": [
            "Alicia Pérez vendió el producto más barato.\n"
          ]
        }
      ]
    },
    {
      "cell_type": "markdown",
      "source": [
        "Inspecciona la conversación\n",
        "\n",
        "Puedes inspeccionar las llamadas que realiza el modelo y lo que el cliente devuelve en respuesta usando `chat.history`.\n"
      ],
      "metadata": {
        "id": "2my7TNbMZjlv"
      }
    },
    {
      "cell_type": "code",
      "source": [
        "import textwrap"
      ],
      "metadata": {
        "id": "8AHR6x8YZkUo"
      },
      "execution_count": 23,
      "outputs": []
    },
    {
      "cell_type": "code",
      "source": [
        "def imprimir_historial_chat(chat):\n",
        "    \"\"\"Imprime cada turno en el historial del chat, incluyendo llamadas a funciones y respuestas.\"\"\"\n",
        "    for evento in chat.history:\n",
        "        print(f\"{evento.role.capitalize()}:\")\n",
        "        for parte in evento.parts:\n",
        "            if txt := parte.text:\n",
        "                print(f'  \"{txt}\"')\n",
        "            elif fn := parte.function_call:\n",
        "                args = \", \".join(f\"{key}={val}\" for key, val in fn.args.items())\n",
        "                print(f\"  Llamada a función: {fn.name}({args})\")\n",
        "            elif resp := parte.function_response:\n",
        "                print(\"  Respuesta de función:\")\n",
        "                print(textwrap.indent(str(resp), \"    \"))\n",
        "        print()\n",
        "imprimir_historial_chat(chat)\n"
      ],
      "metadata": {
        "colab": {
          "base_uri": "https://localhost:8080/"
        },
        "id": "7WGlOyt5ZrGu",
        "outputId": "436cb4f0-e30b-4e17-ce2e-ac0c7669dc12"
      },
      "execution_count": 24,
      "outputs": [
        {
          "output_type": "stream",
          "name": "stdout",
          "text": [
            "User:\n",
            "  \"¿Cuál es el producto más barato?\"\n",
            "\n",
            "Model:\n",
            "  Llamada a función: listar_tablas()\n",
            "\n",
            "User:\n",
            "  Respuesta de función:\n",
            "    name: \"listar_tablas\"\n",
            "    response {\n",
            "      fields {\n",
            "        key: \"result\"\n",
            "        value {\n",
            "          list_value {\n",
            "            values {\n",
            "              string_value: \"productos\"\n",
            "            }\n",
            "            values {\n",
            "              string_value: \"sqlite_sequence\"\n",
            "            }\n",
            "            values {\n",
            "              string_value: \"personal\"\n",
            "            }\n",
            "            values {\n",
            "              string_value: \"ordenes\"\n",
            "            }\n",
            "          }\n",
            "        }\n",
            "      }\n",
            "    }\n",
            "\n",
            "\n",
            "Model:\n",
            "  Llamada a función: describir_tabla(nombre_tabla=productos)\n",
            "\n",
            "User:\n",
            "  Respuesta de función:\n",
            "    name: \"describir_tabla\"\n",
            "    response {\n",
            "      fields {\n",
            "        key: \"result\"\n",
            "        value {\n",
            "          list_value {\n",
            "            values {\n",
            "              list_value {\n",
            "                values {\n",
            "                  string_value: \"producto_id\"\n",
            "                }\n",
            "                values {\n",
            "                  string_value: \"INTEGER\"\n",
            "                }\n",
            "              }\n",
            "            }\n",
            "            values {\n",
            "              list_value {\n",
            "                values {\n",
            "                  string_value: \"nombre_producto\"\n",
            "                }\n",
            "                values {\n",
            "                  string_value: \"VARCHAR(255)\"\n",
            "                }\n",
            "              }\n",
            "            }\n",
            "            values {\n",
            "              list_value {\n",
            "                values {\n",
            "                  string_value: \"precio\"\n",
            "                }\n",
            "                values {\n",
            "                  string_value: \"DECIMAL(10, 2)\"\n",
            "                }\n",
            "              }\n",
            "            }\n",
            "          }\n",
            "        }\n",
            "      }\n",
            "    }\n",
            "\n",
            "\n",
            "Model:\n",
            "  Llamada a función: ejecutar_consulta(sql=SELECT nombre_producto FROM productos ORDER BY precio LIMIT 1)\n",
            "\n",
            "User:\n",
            "  Respuesta de función:\n",
            "    name: \"ejecutar_consulta\"\n",
            "    response {\n",
            "      fields {\n",
            "        key: \"result\"\n",
            "        value {\n",
            "          list_value {\n",
            "            values {\n",
            "              list_value {\n",
            "                values {\n",
            "                  string_value: \"Mouse\"\n",
            "                }\n",
            "              }\n",
            "            }\n",
            "          }\n",
            "        }\n",
            "      }\n",
            "    }\n",
            "\n",
            "\n",
            "Model:\n",
            "  \"El producto más barato es el Mouse.\n",
            "\"\n",
            "\n",
            "User:\n",
            "  \"¿Y cuánto cuesta?\"\n",
            "\n",
            "Model:\n",
            "  Llamada a función: ejecutar_consulta(sql=SELECT precio FROM productos ORDER BY precio LIMIT 1)\n",
            "\n",
            "User:\n",
            "  Respuesta de función:\n",
            "    name: \"ejecutar_consulta\"\n",
            "    response {\n",
            "      fields {\n",
            "        key: \"result\"\n",
            "        value {\n",
            "          list_value {\n",
            "            values {\n",
            "              list_value {\n",
            "                values {\n",
            "                  number_value: 29.99\n",
            "                }\n",
            "              }\n",
            "            }\n",
            "          }\n",
            "        }\n",
            "      }\n",
            "    }\n",
            "\n",
            "\n",
            "Model:\n",
            "  \"El Mouse cuesta $29.99.\n",
            "\"\n",
            "\n"
          ]
        }
      ]
    },
    {
      "cell_type": "markdown",
      "source": [
        "Lecturas adicionales\n",
        "\n",
        "Para aprender más sobre lo que puede hacer la API de Gemini con llamadas a funciones, consulta el libro de recetas sobre llamadas a funciones (Function calling\n"
      ],
      "metadata": {
        "id": "2l7vbLVeZuks"
      }
    }
  ]
}