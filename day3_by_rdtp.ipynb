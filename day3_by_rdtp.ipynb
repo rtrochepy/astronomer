{
  "nbformat": 4,
  "nbformat_minor": 0,
  "metadata": {
    "colab": {
      "provenance": [],
      "authorship_tag": "ABX9TyPpjtSAxOBn5K5b13ubKdqZ",
      "include_colab_link": true
    },
    "kernelspec": {
      "name": "python3",
      "display_name": "Python 3"
    },
    "language_info": {
      "name": "python"
    }
  },
  "cells": [
    {
      "cell_type": "markdown",
      "metadata": {
        "id": "view-in-github",
        "colab_type": "text"
      },
      "source": [
        "<a href=\"https://colab.research.google.com/github/rtrochepy/astronomer/blob/main/day3_by_rdtp.ipynb\" target=\"_parent\"><img src=\"https://colab.research.google.com/assets/colab-badge.svg\" alt=\"Open In Colab\"/></a>"
      ]
    },
    {
      "cell_type": "markdown",
      "source": [
        "Setup\n",
        "\n",
        "Start by installing and importing the Python SDK."
      ],
      "metadata": {
        "id": "sjXyRG5oBKG_"
      }
    },
    {
      "cell_type": "code",
      "execution_count": 1,
      "metadata": {
        "id": "_PrWpi7m-4MQ"
      },
      "outputs": [],
      "source": [
        "%pip install -q -U 'google-generativeai>=0.8.3'"
      ]
    },
    {
      "cell_type": "code",
      "source": [
        "import google.generativeai as genai"
      ],
      "metadata": {
        "id": "oRAyzuywCBs-"
      },
      "execution_count": 3,
      "outputs": []
    },
    {
      "cell_type": "markdown",
      "source": [
        "Set up your API key\n",
        "\n",
        "To run the following cell, your API key must be stored it in a Kaggle secret named GOOGLE_API_KEY.\n",
        "\n",
        "If you don't already have an API key, you can grab one from AI Studio. You can find detailed instructions in the docs.\n",
        "\n",
        "To make the key available through Kaggle secrets, choose Secrets from the Add-ons menu and follow the instructions to add your key or enable it for this notebook.\n"
      ],
      "metadata": {
        "id": "YmDC3ldoBkqO"
      }
    },
    {
      "cell_type": "code",
      "source": [
        "from kaggle_secrets import UserSecretsClient\n",
        "\n",
        "GOOGLE_API_KEY = UserSecretsClient().get_secret(\"GOOGLE_API_KEY\")\n",
        "genai.configure(api_key=GOOGLE_API_KEY)\n"
      ],
      "metadata": {
        "id": "jbGxv16SBpXF"
      },
      "execution_count": null,
      "outputs": []
    },
    {
      "cell_type": "markdown",
      "source": [
        "Create a local database\n",
        "\n",
        "For this minimal example, you'll create a local SQLite database and add some synthetic data so you have something to query.\n",
        "\n",
        "Load the sql IPython extension so you can interact with the database using magic commands (the % instructions) to create a new, empty SQLite database.\n"
      ],
      "metadata": {
        "id": "GG_NhPV5ChnA"
      }
    },
    {
      "cell_type": "code",
      "source": [
        "%load_ext sql\n",
        "%sql sqlite:///sample.db"
      ],
      "metadata": {
        "id": "2hz0rOKNCidN"
      },
      "execution_count": 5,
      "outputs": []
    },
    {
      "cell_type": "markdown",
      "source": [
        "Create the tables and insert some synthetic data. Feel free to tweak this structure and data."
      ],
      "metadata": {
        "id": "mZiiigOkDCw6"
      }
    },
    {
      "cell_type": "code",
      "source": [
        "%%sql\n",
        "-- Create the 'products' table\n",
        "CREATE TABLE IF NOT EXISTS products (\n",
        "  \tproduct_id INTEGER PRIMARY KEY AUTOINCREMENT,\n",
        "  \tproduct_name VARCHAR(255) NOT NULL,\n",
        "  \tprice DECIMAL(10, 2) NOT NULL\n",
        "  );\n",
        "\n",
        "-- Create the 'staff' table\n",
        "CREATE TABLE IF NOT EXISTS staff (\n",
        "  \tstaff_id INTEGER PRIMARY KEY AUTOINCREMENT,\n",
        "  \tfirst_name VARCHAR(255) NOT NULL,\n",
        "  \tlast_name VARCHAR(255) NOT NULL\n",
        "  );\n",
        "\n",
        "-- Create the 'orders' table\n",
        "CREATE TABLE IF NOT EXISTS orders (\n",
        "  \torder_id INTEGER PRIMARY KEY AUTOINCREMENT,\n",
        "  \tcustomer_name VARCHAR(255) NOT NULL,\n",
        "  \tstaff_id INTEGER NOT NULL,\n",
        "  \tproduct_id INTEGER NOT NULL,\n",
        "  \tFOREIGN KEY (staff_id) REFERENCES staff (staff_id),\n",
        "  \tFOREIGN KEY (product_id) REFERENCES products (product_id)\n",
        "  );\n",
        "\n",
        "-- Insert data into the 'products' table\n",
        "INSERT INTO products (product_name, price) VALUES\n",
        "  \t('Laptop', 799.99),\n",
        "  \t('Keyboard', 129.99),\n",
        "  \t('Mouse', 29.99);\n",
        "\n",
        "-- Insert data into the 'staff' table\n",
        "INSERT INTO staff (first_name, last_name) VALUES\n",
        "  \t('Alice', 'Smith'),\n",
        "  \t('Bob', 'Johnson'),\n",
        "  \t('Charlie', 'Williams');\n",
        "\n",
        "-- Insert data into the 'orders' table\n",
        "INSERT INTO orders (customer_name, staff_id, product_id) VALUES\n",
        "  \t('David Lee', 1, 1),\n",
        "  \t('Emily Chen', 2, 2),\n",
        "  \t('Frank Brown', 1, 3);\n"
      ],
      "metadata": {
        "colab": {
          "base_uri": "https://localhost:8080/"
        },
        "id": "rGK86-6TDDSt",
        "outputId": "ed62a3fe-8d74-4567-efaa-b3ce606598c6"
      },
      "execution_count": 6,
      "outputs": [
        {
          "output_type": "stream",
          "name": "stdout",
          "text": [
            " * sqlite:///sample.db\n",
            "Done.\n",
            "Done.\n",
            "Done.\n",
            "3 rows affected.\n",
            "3 rows affected.\n",
            "3 rows affected.\n"
          ]
        },
        {
          "output_type": "execute_result",
          "data": {
            "text/plain": [
              "[]"
            ]
          },
          "metadata": {},
          "execution_count": 6
        }
      ]
    },
    {
      "cell_type": "markdown",
      "source": [
        "Define database functions\n",
        "\n",
        "Function calling with Gemini API's Python SDK can be implemented by defining an OpenAPI schema that is passed to the model. Alternatively you can define Python functions and let the SDK inspect them to automatically define the schema. In this latter case, it's important that the functions are type annotated and have accurate docstrings that describe what the functions do - the model has no insight into the function body, so the docs function as the interface.\n",
        "\n",
        "By providing three key pieces of functionality - listing tables, describing a table, and executing a query - the LLM (or even another user) will have the basic tools needed to understand and interrogate the database.\n",
        "\n",
        "Start with a database connection that will be used across all of the functions.\n"
      ],
      "metadata": {
        "id": "DFlhulHvDUc3"
      }
    },
    {
      "cell_type": "code",
      "source": [
        "import sqlite3\n",
        "\n",
        "db_file = \"sample.db\"\n",
        "db_conn = sqlite3.connect(db_file)\n"
      ],
      "metadata": {
        "id": "Mi02ygyCDWf5"
      },
      "execution_count": 7,
      "outputs": []
    },
    {
      "cell_type": "markdown",
      "source": [
        "The first function will list all tables available in the database. Define it, and test it out to ensure it works."
      ],
      "metadata": {
        "id": "R9i2yAGbDfTZ"
      }
    },
    {
      "cell_type": "code",
      "source": [
        "def list_tables() -> list[str]:\n",
        "    \"\"\"Retrieve the names of all tables in the database.\"\"\"\n",
        "    # Include print logging statements so you can see when functions are being called.\n",
        "    print(' - DB CALL: list_tables')\n",
        "\n",
        "    cursor = db_conn.cursor()\n",
        "\n",
        "    # Fetch the table names.\n",
        "    cursor.execute(\"SELECT name FROM sqlite_master WHERE type='table';\")\n",
        "\n",
        "    tables = cursor.fetchall()\n",
        "    return [t[0] for t in tables]\n",
        "\n",
        "\n",
        "list_tables()\n"
      ],
      "metadata": {
        "colab": {
          "base_uri": "https://localhost:8080/"
        },
        "id": "Fy8JhnClDgoI",
        "outputId": "6a4c91e3-5ad8-4804-a694-1ae1e7c35d74"
      },
      "execution_count": 8,
      "outputs": [
        {
          "output_type": "stream",
          "name": "stdout",
          "text": [
            " - DB CALL: list_tables\n"
          ]
        },
        {
          "output_type": "execute_result",
          "data": {
            "text/plain": [
              "['products', 'sqlite_sequence', 'staff', 'orders']"
            ]
          },
          "metadata": {},
          "execution_count": 8
        }
      ]
    },
    {
      "cell_type": "markdown",
      "source": [
        "Once the available tables is known, the next step a database user will need is to understand what columns are available in a given table. Define that too, and test that it works as expected."
      ],
      "metadata": {
        "id": "UGzKWTPlDxp2"
      }
    },
    {
      "cell_type": "code",
      "source": [
        "def describe_table(table_name: str) -> list[tuple[str, str]]:\n",
        "    \"\"\"Look up the table schema.\n",
        "\n",
        "    Returns:\n",
        "      List of columns, where each entry is a tuple of (column, type).\n",
        "    \"\"\"\n",
        "    print(' - DB CALL: describe_table')\n",
        "\n",
        "    cursor = db_conn.cursor()\n",
        "\n",
        "    cursor.execute(f\"PRAGMA table_info({table_name});\")\n",
        "\n",
        "    schema = cursor.fetchall()\n",
        "    # [column index, column name, column type, ...]\n",
        "    return [(col[1], col[2]) for col in schema]\n",
        "\n",
        "\n",
        "describe_table(\"products\")\n"
      ],
      "metadata": {
        "colab": {
          "base_uri": "https://localhost:8080/"
        },
        "id": "ybOxoJSlDym_",
        "outputId": "ec677125-b856-4ca0-f872-e9bb9e29760c"
      },
      "execution_count": 9,
      "outputs": [
        {
          "output_type": "stream",
          "name": "stdout",
          "text": [
            " - DB CALL: describe_table\n"
          ]
        },
        {
          "output_type": "execute_result",
          "data": {
            "text/plain": [
              "[('product_id', 'INTEGER'),\n",
              " ('product_name', 'VARCHAR(255)'),\n",
              " ('price', 'DECIMAL(10, 2)')]"
            ]
          },
          "metadata": {},
          "execution_count": 9
        }
      ]
    },
    {
      "cell_type": "markdown",
      "source": [
        "Now that the system knows what tables and columns are present, it has enough information to be able to generate and run a SELECT query. Now provide that functionality, and test that it works."
      ],
      "metadata": {
        "id": "eQL_xQKhD_tn"
      }
    },
    {
      "cell_type": "code",
      "source": [
        "def execute_query(sql: str) -> list[list[str]]:\n",
        "    \"\"\"Execute a SELECT statement, returning the results.\"\"\"\n",
        "    print(' - DB CALL: execute_query')\n",
        "\n",
        "    cursor = db_conn.cursor()\n",
        "\n",
        "    cursor.execute(sql)\n",
        "    return cursor.fetchall()\n",
        "\n",
        "\n",
        "execute_query(\"select * from products\")\n"
      ],
      "metadata": {
        "colab": {
          "base_uri": "https://localhost:8080/"
        },
        "id": "HDOlk9KMEAc4",
        "outputId": "e7f7674e-17f4-4272-9e1e-2564de468ce4"
      },
      "execution_count": 10,
      "outputs": [
        {
          "output_type": "stream",
          "name": "stdout",
          "text": [
            " - DB CALL: execute_query\n"
          ]
        },
        {
          "output_type": "execute_result",
          "data": {
            "text/plain": [
              "[(1, 'Laptop', 799.99), (2, 'Keyboard', 129.99), (3, 'Mouse', 29.99)]"
            ]
          },
          "metadata": {},
          "execution_count": 10
        }
      ]
    },
    {
      "cell_type": "markdown",
      "source": [
        "Implement function calls\n",
        "\n",
        "Now you can put it all together in a call to the Gemini API.\n",
        "\n",
        "Function calling works by adding specific messages to a chat session. When function schemas are defined and made available to the model and a conversation is started, instead of returning a text response, the model may return a function_call instead. When this happens, the client must respond with a function_response, indicating the result of the call, and the conversation can continue on as normal.\n",
        "\n",
        "This function calling interaction normally happens manually, allowing you, the client, to validate and initiate the call. However the Python SDK also supports automatic function calling, where the supplied functions will be automatically invoked. This is a powerful feature and should only be exposed when it is safe to do so, such as when the functions have no side-effects.\n",
        "\n",
        "Here's the state diagram representing the conversation flow with function calling. With automatic function calling, the bottom row is executed automatically by the Python SDK. In manual function calling, you write the code to run each step individually.\n"
      ],
      "metadata": {
        "id": "znZTpOTTEfmI"
      }
    },
    {
      "cell_type": "code",
      "source": [
        "# These are the Python functions defined above.\n",
        "db_tools = [list_tables, describe_table, execute_query]\n",
        "\n",
        "instruction = \"\"\"You are a helpful chatbot that can interact with an SQL database for a computer\n",
        "store. You will take the users questions and turn them into SQL queries using the tools\n",
        "available. Once you have the information you need, you will answer the user's question using\n",
        "the data returned. Use list_tables to see what tables are present, describe_table to understand\n",
        "the schema, and execute_query to issue an SQL SELECT query.\"\"\"\n",
        "\n",
        "model = genai.GenerativeModel(\n",
        "    \"models/gemini-1.5-flash-latest\", tools=db_tools, system_instruction=instruction\n",
        ")\n",
        "\n",
        "# Define a retry policy. The model might make multiple consecutive calls automatically\n",
        "# for a complex query, this ensures the client retries if it hits quota limits.\n",
        "from google.api_core import retry\n",
        "\n",
        "retry_policy = {\"retry\": retry.Retry(predicate=retry.if_transient_error)}\n",
        "\n",
        "# Start a chat with automatic function calling enabled.\n",
        "chat = model.start_chat(enable_automatic_function_calling=True)\n"
      ],
      "metadata": {
        "id": "SqY3V5qiEpKP"
      },
      "execution_count": 11,
      "outputs": []
    },
    {
      "cell_type": "markdown",
      "source": [
        "Now you can engage in a chat conversation where you can ask about the contents of the database."
      ],
      "metadata": {
        "id": "wt-Gvgc2Ew0e"
      }
    },
    {
      "cell_type": "code",
      "source": [
        "resp = chat.send_message(\"What is the cheapest product?\", request_options=retry_policy)\n",
        "print(resp.text)\n"
      ],
      "metadata": {
        "colab": {
          "base_uri": "https://localhost:8080/",
          "height": 104
        },
        "id": "SJ3TvwN1E2bP",
        "outputId": "1cc23448-6045-4a56-b40f-369e5805e579"
      },
      "execution_count": 12,
      "outputs": [
        {
          "output_type": "stream",
          "name": "stdout",
          "text": [
            " - DB CALL: list_tables\n",
            " - DB CALL: describe_table\n",
            " - DB CALL: execute_query\n",
            "The cheapest product is the Mouse, costing $29.99.\n",
            "\n"
          ]
        }
      ]
    },
    {
      "cell_type": "markdown",
      "source": [
        "If you re-use the same ChatSession object, the conversation will continue statefully. If you wish to start fresh, you can call start_chat again, or call rewind on the chat object to go back a turn.\n",
        "\n",
        "Continue the chat here by asking a follow-up question. Note that the database information is preserved, and the context of the specific product is inferred.\n"
      ],
      "metadata": {
        "id": "_IBtKBQMFAFu"
      }
    },
    {
      "cell_type": "code",
      "source": [
        "resp = chat.send_message(\"and how much is it?\", request_options=retry_policy)\n",
        "print(resp.text)\n"
      ],
      "metadata": {
        "colab": {
          "base_uri": "https://localhost:8080/",
          "height": 52
        },
        "id": "su-sGkdTFAw-",
        "outputId": "e6845b22-ac7c-4b54-b81a-93207419f513"
      },
      "execution_count": 13,
      "outputs": [
        {
          "output_type": "stream",
          "name": "stdout",
          "text": [
            "The Mouse costs $29.99.\n",
            "\n"
          ]
        }
      ]
    },
    {
      "cell_type": "markdown",
      "source": [
        "Explore the chat session and ask your own questions. If you want to try asking more complex questions, try using the gemini-1.5-pro model. It has a lower rate limit, so calls might take a bit longer on the free tier, but you'll notice an improvement in expressivity."
      ],
      "metadata": {
        "id": "Ip2D0I8HFOd4"
      }
    },
    {
      "cell_type": "code",
      "source": [
        "model = genai.GenerativeModel(\n",
        "    \"models/gemini-1.5-pro-latest\", tools=db_tools, system_instruction=instruction\n",
        ")\n",
        "\n",
        "chat = model.start_chat(enable_automatic_function_calling=True)\n",
        "response = chat.send_message('Which salesperson sold the cheapest product?', request_options=retry_policy)\n",
        "print(response.text)\n"
      ],
      "metadata": {
        "colab": {
          "base_uri": "https://localhost:8080/",
          "height": 225
        },
        "id": "WqFWOmSHFUZf",
        "outputId": "43fdcd08-1b9f-42ab-fae1-c9173517ff25"
      },
      "execution_count": 14,
      "outputs": [
        {
          "output_type": "stream",
          "name": "stdout",
          "text": [
            " - DB CALL: list_tables\n",
            " - DB CALL: describe_table\n",
            " - DB CALL: describe_table\n"
          ]
        },
        {
          "output_type": "stream",
          "name": "stderr",
          "text": [
            "WARNING:tornado.access:429 POST /v1beta/models/gemini-1.5-pro-latest:generateContent?%24alt=json%3Benum-encoding%3Dint (127.0.0.1) 508.78ms\n",
            "WARNING:tornado.access:429 POST /v1beta/models/gemini-1.5-pro-latest:generateContent?%24alt=json%3Benum-encoding%3Dint (127.0.0.1) 532.67ms\n",
            "WARNING:tornado.access:429 POST /v1beta/models/gemini-1.5-pro-latest:generateContent?%24alt=json%3Benum-encoding%3Dint (127.0.0.1) 481.86ms\n"
          ]
        },
        {
          "output_type": "stream",
          "name": "stdout",
          "text": [
            " - DB CALL: describe_table\n"
          ]
        },
        {
          "output_type": "stream",
          "name": "stderr",
          "text": [
            "WARNING:tornado.access:429 POST /v1beta/models/gemini-1.5-pro-latest:generateContent?%24alt=json%3Benum-encoding%3Dint (127.0.0.1) 506.71ms\n",
            "WARNING:tornado.access:429 POST /v1beta/models/gemini-1.5-pro-latest:generateContent?%24alt=json%3Benum-encoding%3Dint (127.0.0.1) 835.29ms\n"
          ]
        },
        {
          "output_type": "stream",
          "name": "stdout",
          "text": [
            " - DB CALL: execute_query\n"
          ]
        },
        {
          "output_type": "stream",
          "name": "stderr",
          "text": [
            "WARNING:tornado.access:429 POST /v1beta/models/gemini-1.5-pro-latest:generateContent?%24alt=json%3Benum-encoding%3Dint (127.0.0.1) 537.97ms\n"
          ]
        },
        {
          "output_type": "stream",
          "name": "stdout",
          "text": [
            "Alice Smith sold the cheapest product.\n"
          ]
        }
      ]
    },
    {
      "cell_type": "markdown",
      "source": [
        "Inspecting the conversation\n",
        "\n",
        "To see the calls that the model makes, and what the client returns in response, you can inspect chat.history. This helper function will print out each turn along with the relevant fields passed or returned.\n"
      ],
      "metadata": {
        "id": "AtxfYKKvFeqf"
      }
    },
    {
      "cell_type": "code",
      "source": [
        "import textwrap\n",
        "\n",
        "\n",
        "def print_chat_turns(chat):\n",
        "    \"\"\"Prints out each turn in the chat history, including function calls and responses.\"\"\"\n",
        "    for event in chat.history:\n",
        "        print(f\"{event.role.capitalize()}:\")\n",
        "\n",
        "        for part in event.parts:\n",
        "            if txt := part.text:\n",
        "                print(f'  \"{txt}\"')\n",
        "            elif fn := part.function_call:\n",
        "                args = \", \".join(f\"{key}={val}\" for key, val in fn.args.items())\n",
        "                print(f\"  Function call: {fn.name}({args})\")\n",
        "            elif resp := part.function_response:\n",
        "                print(\"  Function response:\")\n",
        "                print(textwrap.indent(str(resp), \"    \"))\n",
        "\n",
        "        print()\n",
        "\n",
        "\n",
        "print_chat_turns(chat)\n"
      ],
      "metadata": {
        "colab": {
          "base_uri": "https://localhost:8080/"
        },
        "id": "z2J6z9kgFfoW",
        "outputId": "cb9df738-197e-47db-fd98-c9eac143fd5e"
      },
      "execution_count": 15,
      "outputs": [
        {
          "output_type": "stream",
          "name": "stdout",
          "text": [
            "User:\n",
            "  \"Which salesperson sold the cheapest product?\"\n",
            "\n",
            "Model:\n",
            "  Function call: list_tables()\n",
            "\n",
            "User:\n",
            "  Function response:\n",
            "    name: \"list_tables\"\n",
            "    response {\n",
            "      fields {\n",
            "        key: \"result\"\n",
            "        value {\n",
            "          list_value {\n",
            "            values {\n",
            "              string_value: \"products\"\n",
            "            }\n",
            "            values {\n",
            "              string_value: \"sqlite_sequence\"\n",
            "            }\n",
            "            values {\n",
            "              string_value: \"staff\"\n",
            "            }\n",
            "            values {\n",
            "              string_value: \"orders\"\n",
            "            }\n",
            "          }\n",
            "        }\n",
            "      }\n",
            "    }\n",
            "\n",
            "\n",
            "Model:\n",
            "  Function call: describe_table(table_name=products)\n",
            "\n",
            "User:\n",
            "  Function response:\n",
            "    name: \"describe_table\"\n",
            "    response {\n",
            "      fields {\n",
            "        key: \"result\"\n",
            "        value {\n",
            "          list_value {\n",
            "            values {\n",
            "              list_value {\n",
            "                values {\n",
            "                  string_value: \"product_id\"\n",
            "                }\n",
            "                values {\n",
            "                  string_value: \"INTEGER\"\n",
            "                }\n",
            "              }\n",
            "            }\n",
            "            values {\n",
            "              list_value {\n",
            "                values {\n",
            "                  string_value: \"product_name\"\n",
            "                }\n",
            "                values {\n",
            "                  string_value: \"VARCHAR(255)\"\n",
            "                }\n",
            "              }\n",
            "            }\n",
            "            values {\n",
            "              list_value {\n",
            "                values {\n",
            "                  string_value: \"price\"\n",
            "                }\n",
            "                values {\n",
            "                  string_value: \"DECIMAL(10, 2)\"\n",
            "                }\n",
            "              }\n",
            "            }\n",
            "          }\n",
            "        }\n",
            "      }\n",
            "    }\n",
            "\n",
            "\n",
            "Model:\n",
            "  Function call: describe_table(table_name=orders)\n",
            "\n",
            "User:\n",
            "  Function response:\n",
            "    name: \"describe_table\"\n",
            "    response {\n",
            "      fields {\n",
            "        key: \"result\"\n",
            "        value {\n",
            "          list_value {\n",
            "            values {\n",
            "              list_value {\n",
            "                values {\n",
            "                  string_value: \"order_id\"\n",
            "                }\n",
            "                values {\n",
            "                  string_value: \"INTEGER\"\n",
            "                }\n",
            "              }\n",
            "            }\n",
            "            values {\n",
            "              list_value {\n",
            "                values {\n",
            "                  string_value: \"customer_name\"\n",
            "                }\n",
            "                values {\n",
            "                  string_value: \"VARCHAR(255)\"\n",
            "                }\n",
            "              }\n",
            "            }\n",
            "            values {\n",
            "              list_value {\n",
            "                values {\n",
            "                  string_value: \"staff_id\"\n",
            "                }\n",
            "                values {\n",
            "                  string_value: \"INTEGER\"\n",
            "                }\n",
            "              }\n",
            "            }\n",
            "            values {\n",
            "              list_value {\n",
            "                values {\n",
            "                  string_value: \"product_id\"\n",
            "                }\n",
            "                values {\n",
            "                  string_value: \"INTEGER\"\n",
            "                }\n",
            "              }\n",
            "            }\n",
            "          }\n",
            "        }\n",
            "      }\n",
            "    }\n",
            "\n",
            "\n",
            "Model:\n",
            "  Function call: describe_table(table_name=staff)\n",
            "\n",
            "User:\n",
            "  Function response:\n",
            "    name: \"describe_table\"\n",
            "    response {\n",
            "      fields {\n",
            "        key: \"result\"\n",
            "        value {\n",
            "          list_value {\n",
            "            values {\n",
            "              list_value {\n",
            "                values {\n",
            "                  string_value: \"staff_id\"\n",
            "                }\n",
            "                values {\n",
            "                  string_value: \"INTEGER\"\n",
            "                }\n",
            "              }\n",
            "            }\n",
            "            values {\n",
            "              list_value {\n",
            "                values {\n",
            "                  string_value: \"first_name\"\n",
            "                }\n",
            "                values {\n",
            "                  string_value: \"VARCHAR(255)\"\n",
            "                }\n",
            "              }\n",
            "            }\n",
            "            values {\n",
            "              list_value {\n",
            "                values {\n",
            "                  string_value: \"last_name\"\n",
            "                }\n",
            "                values {\n",
            "                  string_value: \"VARCHAR(255)\"\n",
            "                }\n",
            "              }\n",
            "            }\n",
            "          }\n",
            "        }\n",
            "      }\n",
            "    }\n",
            "\n",
            "\n",
            "Model:\n",
            "  Function call: execute_query(sql=SELECT first_name, last_name FROM staff WHERE staff_id = (SELECT staff_id FROM orders WHERE product_id = (SELECT product_id FROM products ORDER BY price ASC LIMIT 1)))\n",
            "\n",
            "User:\n",
            "  Function response:\n",
            "    name: \"execute_query\"\n",
            "    response {\n",
            "      fields {\n",
            "        key: \"result\"\n",
            "        value {\n",
            "          list_value {\n",
            "            values {\n",
            "              list_value {\n",
            "                values {\n",
            "                  string_value: \"Alice\"\n",
            "                }\n",
            "                values {\n",
            "                  string_value: \"Smith\"\n",
            "                }\n",
            "              }\n",
            "            }\n",
            "          }\n",
            "        }\n",
            "      }\n",
            "    }\n",
            "\n",
            "\n",
            "Model:\n",
            "  \"Alice Smith sold the cheapest product.\"\n",
            "\n"
          ]
        }
      ]
    },
    {
      "cell_type": "markdown",
      "source": [
        "In this output you can see each of the conversational turns that were made. Note that the model doesn't remember anything outside of a ChatSession object, so you can make changes to the database structure or data and the model will respond without needing any code changes - try this out!\n",
        "\n",
        "Further reading\n",
        "\n",
        "To learn more about what the Gemini API can do with function calling, check out the Function calling cookbook (see Manual function calling to understand how function calling works manually) as well as Function calling config, which gives you fine-grained control over how function calling is triggered."
      ],
      "metadata": {
        "id": "obira6xAFwuH"
      }
    }
  ]
}